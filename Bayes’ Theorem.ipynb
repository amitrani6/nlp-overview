{
 "cells": [
  {
   "cell_type": "markdown",
   "metadata": {},
   "source": [
    "# Bayes' Theorem\n",
    "\n",
    "This notebook contains the building blocks of Bayes Theorem based classifiers."
   ]
  },
  {
   "cell_type": "code",
   "execution_count": 1,
   "metadata": {},
   "outputs": [],
   "source": [
    "# This function calculates Bayes' Theorem\n",
    "\n",
    "def bayes_rule(p_b_a, p_a, p_b):\n",
    "    return((p_b_a*p_a)/p_b)"
   ]
  },
  {
   "cell_type": "code",
   "execution_count": 4,
   "metadata": {
    "scrolled": true
   },
   "outputs": [
    {
     "data": {
      "text/plain": [
       "0.6460176991150441"
      ]
     },
     "execution_count": 4,
     "metadata": {},
     "output_type": "execute_result"
    }
   ],
   "source": [
    "bayes_rule(.73, .2, .226)"
   ]
  },
  {
   "cell_type": "markdown",
   "metadata": {},
   "source": [
    "# Breaking down P(B)\n",
    "\n",
    "From Learn.Co \"Bayes' Theorem - Lab\"\n",
    "\n",
    "Exercise 3 - Bayesian Disease Diagnosis\n",
    "Visit this link for an insight into Bayesian Disease Daignosis\n",
    "\n",
    "A disease test is advertised as being 99% accurate\n",
    "\n",
    "If a patient has the disease,they will test positive 99% of the time.\n",
    "\n",
    "If you don't have the disease, they will test negative 99% of the time.\n",
    "\n",
    "1% of all people have this disease\n",
    "\n",
    "Now a patient tests positive, what is the probability that you actually have the disease?"
   ]
  },
  {
   "cell_type": "code",
   "execution_count": 9,
   "metadata": {},
   "outputs": [
    {
     "data": {
      "text/plain": [
       "0.4999999999999997"
      ]
     },
     "execution_count": 9,
     "metadata": {},
     "output_type": "execute_result"
    }
   ],
   "source": [
    "p_test_positive_given_disease = 0.99\n",
    "p_test_negative_given_no_disease = 0.99\n",
    "p_have_disease = 0.01\n",
    "p_positive_test = (p_have_disease*p_test_positive_given_disease)+((1-p_have_disease)*(1-p_test_negative_given_no_disease))\n",
    "\n",
    "#p_a_b = probability that you actually have the disease given positive test\n",
    "\n",
    "bayes_rule(p_test_positive_given_disease, p_have_disease, p_positive_test)"
   ]
  },
  {
   "cell_type": "code",
   "execution_count": null,
   "metadata": {},
   "outputs": [],
   "source": []
  }
 ],
 "metadata": {
  "kernelspec": {
   "display_name": "Python 3",
   "language": "python",
   "name": "python3"
  },
  "language_info": {
   "codemirror_mode": {
    "name": "ipython",
    "version": 3
   },
   "file_extension": ".py",
   "mimetype": "text/x-python",
   "name": "python",
   "nbconvert_exporter": "python",
   "pygments_lexer": "ipython3",
   "version": "3.7.2"
  }
 },
 "nbformat": 4,
 "nbformat_minor": 2
}
