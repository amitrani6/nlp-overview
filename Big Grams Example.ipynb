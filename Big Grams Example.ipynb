{
 "cells": [
  {
   "cell_type": "markdown",
   "metadata": {},
   "source": [
    "# Feature Engineering and Big Grams Example\n",
    "\n",
    "This notebook contains examples of NLP feature engineering, specifically Big Grams; the combination of words as features or dimensions.\n",
    "\n",
    "Big Grams are every pair of words in the corpus; some pairs of words that appear at least a minimum of times (usually five) hold more information than others.\n",
    "\n",
    "Ngrams can be groups of n number of words or characters.\n",
    "\n",
    "You can rank any of these groups with a metric known as **Pointwise Mutual Information Score**, a statistical measure of dependency between the items within a group. The higher the "
   ]
  },
  {
   "cell_type": "code",
   "execution_count": null,
   "metadata": {},
   "outputs": [],
   "source": []
  }
 ],
 "metadata": {
  "kernelspec": {
   "display_name": "Python 3",
   "language": "python",
   "name": "python3"
  },
  "language_info": {
   "codemirror_mode": {
    "name": "ipython",
    "version": 3
   },
   "file_extension": ".py",
   "mimetype": "text/x-python",
   "name": "python",
   "nbconvert_exporter": "python",
   "pygments_lexer": "ipython3",
   "version": "3.7.2"
  }
 },
 "nbformat": 4,
 "nbformat_minor": 2
}
