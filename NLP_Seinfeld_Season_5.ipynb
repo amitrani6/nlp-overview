{
 "cells": [
  {
   "cell_type": "markdown",
   "metadata": {},
   "source": [
    "# Natural Language Processing (NLP) Process For Seinfeld Transcripts\n",
    "\n",
    "This notebook will outline the process of cleaning, tokenizing, and vectorizing text transcripts of Seinfeld Season 5 Episodes. Source of transcripts: https://www.seinfeldscripts.com/seinfeld-scripts.html\n"
   ]
  },
  {
   "cell_type": "code",
   "execution_count": 1,
   "metadata": {},
   "outputs": [
    {
     "name": "stderr",
     "output_type": "stream",
     "text": [
      "[nltk_data] Downloading package punkt to /Users/Alex/nltk_data...\n",
      "[nltk_data]   Package punkt is already up-to-date!\n"
     ]
    }
   ],
   "source": [
    "#Import the NLTK library, tokenizer, and methods\n",
    "import nltk\n",
    "nltk.download('punkt')\n",
    "from nltk import word_tokenize\n",
    "from nltk import sent_tokenize\n",
    "\n",
    "import pandas as pd\n",
    "import numpy as np\n",
    "from sklearn.manifold import TSNE\n",
    "\n",
    "#Import visualization libraries\n",
    "import matplotlib.pyplot as plt\n",
    "%matplotlib inline\n",
    "from mpl_toolkits.mplot3d import Axes3D\n",
    "\n",
    "import re"
   ]
  },
  {
   "cell_type": "markdown",
   "metadata": {},
   "source": [
    "## Read The Files"
   ]
  },
  {
   "cell_type": "code",
   "execution_count": 2,
   "metadata": {},
   "outputs": [],
   "source": [
    "seinfeld_directory = 'Seinfeld_Episodes/Season_5/'\n",
    "\n",
    "seinfeld_season_5_episodes = ['S05_E01_The_Mango.txt', 'S05_E02_The_Puffy_Shirt.txt',\n",
    "                              'S05_E03_The_Glasses.txt', 'S05_E04_The_Sniffing_Accountant.txt',\n",
    "                              'S05_E05_The_Bris.txt', 'S05_E06_The_Lip_Reader.txt',\n",
    "                              'S05_E07_The_Non_Fat_Yogurt.txt', 'S05_E08_The_Barber.txt',\n",
    "                              'S05_E09_The_Masseuse.txt', 'S05_E10_The_Cigar_Store_Indian.txt',\n",
    "                              'S05_E11_The_Conversion.txt', 'S05_E12_The_Stall.txt',\n",
    "                              'S05_E13_The_Dinner_Party.txt', 'S05_E14_The_Marine_Biologist.txt',\n",
    "                              'S05_E15_The_Pie.txt', 'S05_E16_The_Stand-In.txt',\n",
    "                              'S05_E17_The_Wife.txt', 'S05_E18_The_Raincoats_Part_1.txt',\n",
    "                              'S05_E19_The_Raincoats_Part_2.txt', 'S05_E20_The_Fire.txt',\n",
    "                              'S05_E21_The_Hamptons.txt', 'S05_E22_The Opposite.txt']\n"
   ]
  },
  {
   "cell_type": "code",
   "execution_count": 3,
   "metadata": {},
   "outputs": [],
   "source": [
    "with open(seinfeld_directory + seinfeld_season_5_episodes[1], 'r') as file:\n",
    "    raw_text_episode_2 = file.read().replace('\\n', ' ')\n",
    "    #.replace('[','(').replace(']',')')"
   ]
  },
  {
   "cell_type": "code",
   "execution_count": 4,
   "metadata": {},
   "outputs": [
    {
     "data": {
      "text/plain": [
       "\"[Setting: Jerry's apartment] (Jerry and George are waiting for Kramer, so he can help them move George's stuff back into his parent's house) GEORGE: I can't believe this! JERRY: Oh, it won't be for that long. GEORGE: How can I do this?! How can I move back in with those people? Please, tell me! They're insane! You know that. JERRY: Hey, my parents are just as crazy as your parents. GEORGE: How can you compare you parents to my parents?! JERRY: My father has never thrown anything out. Ever! GEORGE: My father wears his sneakers in the pool! Sneakers! JERRY: My mother has never set foot in a natural body of water. GEORGE: (Showing Jerry up) Listen carefully. My mother has never laughed. Ever. Not a giggle, not a chuckle, not a tee-hee.. never went 'Ha!' JERRY: A smirk? GEORGE: Maybe!.. And I'm moving back in there! JERRY: I told you I'd lend you the money for the rent. GEORGE: No, no, no, no. Borrowing money from a friend is like having sex. It just completely changes the relationship. (Kramer stumbles in) KRAMER: Alright. I'm ready. (To\""
      ]
     },
     "execution_count": 4,
     "metadata": {},
     "output_type": "execute_result"
    }
   ],
   "source": [
    "raw_text_episode_2[:1050]"
   ]
  },
  {
   "cell_type": "markdown",
   "metadata": {},
   "source": [
    "## Cleaning The Text Data\n",
    "\n",
    "#Step 1: Manual"
   ]
  },
  {
   "cell_type": "code",
   "execution_count": 6,
   "metadata": {},
   "outputs": [],
   "source": [
    "def clean_text(raw_text):\n",
    "    raw_text_quotes = re.sub(\"[\\(\\[].*?[\\)\\]]\", \"\", raw_text)\n",
    "    cleaned_text = []\n",
    "    for word in raw_text_quotes.split(\" \"):\n",
    "        if not \":\" in word:\n",
    "            for symbol in \".,?!'*\":\n",
    "                word = word.replace(symbol, '').lower()\n",
    "            #Checks for blank elements\n",
    "            if word:\n",
    "                cleaned_text.append(word)\n",
    "\n",
    "    return cleaned_text"
   ]
  },
  {
   "cell_type": "code",
   "execution_count": 7,
   "metadata": {
    "scrolled": true
   },
   "outputs": [
    {
     "data": {
      "text/plain": [
       "'i cant believe this oh it wont be for that long how can i do this how can i move back in with those people please tell me theyre insane you know that hey my parents are just as crazy as your parents how can you compare you parents to my parents my father has never thrown anything out ever my father wears his sneakers in the pool sneakers my mother has never set foot in a natural body of water listen carefully my mother has never laughed ever not a giggle not a chuckle not a tee-hee never went ha a smirk maybe and im moving back in there i told you id lend you the money for the rent no no no no borrowing money from a friend is like having sex it just completely changes the relationship alright im ready you know i still dont understand - why do you want to move back in with your parents i dont want to im outta money i got 714 dollars left in the bank well move in here whats that why doesnt he just move in here yeah yeah im gonna move in with him he doesnt even'"
      ]
     },
     "execution_count": 7,
     "metadata": {},
     "output_type": "execute_result"
    }
   ],
   "source": [
    "clean_text_episode_2 = clean_text(raw_text_episode_2)\n",
    "' '.join(clean_text_episode_2[:200])"
   ]
  },
  {
   "cell_type": "code",
   "execution_count": 8,
   "metadata": {},
   "outputs": [
    {
     "name": "stdout",
     "output_type": "stream",
     "text": [
      "S05_E01_The_Mango.txt <class 'str'>\n",
      "\n",
      "a female orgasm is kinda like the bat cave a very few people know where it is and if youre lucky enough to see it you probably dont know how you got there and you cant find you way back after you left you know there are two types of female the real and the fake and ill tell you right now as a man we dont know we do not know because to man sex is like a car accident and determining the female orgasm is like being asked what did you see after the car went out of control i heard a lot of screeching sounds i remember i was facing the wrong way at one point and in the end my body was thrown clear so whats her name karin is she nice great so you like her i think so you dont know i cant tell anymore well do you feel anything feel whats that all right let me ask you when she comes over youre cleaning up a lot yeah youre just straightening up or youre cleaning cleaning you do the tub yeah on your knees ajax scrubbing the whole deal yeah okay i think\n",
      "\n",
      "S05_E02_The_Puffy_Shirt.txt <class 'str'>\n",
      "\n",
      "i cant believe this oh it wont be for that long how can i do this how can i move back in with those people please tell me theyre insane you know that hey my parents are just as crazy as your parents how can you compare you parents to my parents my father has never thrown anything out ever my father wears his sneakers in the pool sneakers my mother has never set foot in a natural body of water listen carefully my mother has never laughed ever not a giggle not a chuckle not a tee-hee never went ha a smirk maybe and im moving back in there i told you id lend you the money for the rent no no no no borrowing money from a friend is like having sex it just completely changes the relationship alright im ready you know i still dont understand - why do you want to move back in with your parents i dont want to im outta money i got 714 dollars left in the bank well move in here whats that why doesnt he just move in here yeah yeah im gonna move in with him he doesnt even\n",
      "\n",
      "S05_E03_The_Glasses.txt <class 'str'>\n",
      "\n",
      "i never get enough sleep i stay up late at night cause im night guy night guy wants to stay up late what about getting up after five hours sleep oh thats morning guys problem thats not my problem im night guy i stay up as late as i want so you get up in the morning youre youre exhausted groggy oooh i hate that night guy see night guy always screws morning guy theres nothing morning guy can do the only morning guy can do is try and oversleep often enough so that day guy looses his job and night guy has no money to go out anymore do you ever spit on anybody from here no you no do you ever think about it yeah me too hey hey well i got it you got me the air conditioner what do you think beautiful what air conditioner my buddy works in an appliance store and he got us thirty percent off is it a good one good one its the commando 8 commando 8 12000 btus i thought you hated air conditioning youve never had an air conditioner yeah but amy likes air conditioning oooh youre getting an\n",
      "\n",
      "S05_E04_The_Sniffing_Accountant.txt <class 'str'>\n",
      "\n",
      "jerry george and elaine at monks caf so does he like you what do you think you like him yeah yeah like him definitely like him i like him a lot whats wrong with him nothing and ive looked well im sure youll find something so how did you meet him in the office so hes a writer yeah yeah big surprise so i was sitting at the reception desk i was looking pretty hot i was wearing my sling back pumps what are those ask your mother you live with her now dont you anyway so then this guy comes up to me and starts feeling my jacket through his thumb and his forefinger like this so what did you do i \"so what do you think\" and he said \"gabardine\" and i said \"yeah\" that was it wow just felt your material yeahjake jarmel sounds like a cool guy sounds like a jerk felt your material come on jerry where did you get that sweater what do you think i found it at the back of my closet i think thats what the back of closets are for elaine looks out the window hey thats barry look its\n",
      "\n",
      "S05_E05_The_Bris.txt <class 'str'>\n",
      "\n",
      "act one scene a int hospital room - day jerry elaine and george are visiting with new parents myra and stan flick and their baby steven myra discreetly breast feeds the baby stan is in the midst of the harrowing birth story as jerry and elaine alternate between boredom and squirming george sits by the window staring out ignoring the proceeding stan and so the babys head comes out and im screaming and my brother whos been videotaping the whole thing turns green his eyes roll up in his head and he blacks out drops the camera the camera breaks then the placenta comes flying out elaine whoa stan and then doctor says jerry thank you thats enough jerry and elaine exchange glance myra is breast feeding jerry winces he cant watch he is visibly unsettled stan will you look at that baby sucking like theres no tomorrow just sucking away suck suck suck jerry yeah yeah yeah stan look at that jerry look at that sucking sucking jerry yeah i looked i saw stan this doesnt make you uncomfortable does it jerry uncomfortable not at all see your friends wifes breast sticking out - why would that make me\n",
      "\n",
      "S05_E06_The_Lip_Reader.txt <class 'str'>\n",
      "\n",
      "at the comedy club professional tennis to me i dont understand all the shushing why are they always shushing shh shh dont the players know that were there should we duck down behind the seats so they dont see us watching them tennis is basically just ping-pong and the players are standing on the table thats all it is and that goofy scoring you win one point and all the sudden youre up by 15 two points 30-love 30-love sounds like an english call girl \"thatll be 30 love and could you be a little quieter next time please shh\" in the bleachers at the tennis court two players are hitting the ball back and forth are these seats unbelievable or what wheres the sunblock here 25 you dont have anything higher what are you on mercury i need higher this has paba in it i need paba-free you got a problem with paba yes i have a problem with paba you dont even know what paba is i know enough to stay away from it so are you going to todds party this weekend ill go if someone else drives you going gwen really wants to go youre bringing\n",
      "\n",
      "S05_E07_The_Non_Fat_Yogurt.txt <class 'str'>\n",
      "\n",
      "jerry ive always been a big fan of the little check move you know unless the waiters not too sharp then you got to total it up sometimes they have to come over \"do you want the check\" \"no i want to be pen pals cant you see what im doing here im trying to be cool and impress people\" elaine hmm george fantastic jerry i told you how good is this george good jerry how good george very good elaine they got blue berries and theres real blue berries what kind did you get jerry coffee and they grind up the coffee beans and they put it in elaine let me test-taste that jerry huh huh elaine hmm rico jerry suave and its non-fat george see how could this not have any fat its too good elaine you want to taste mine george oh you want to taste mine elaine no i dont george okay if you want to taste mine you dont have to offer me some of yours elaine all right lets just forget it jerry you know kramers going to clean up on this place george what do you mean jerry he invested in it george\n",
      "\n",
      "S05_E08_The_Barber.txt <class 'str'>\n",
      "\n",
      "mr well george we here at sanalac like to think of ourselves as a fairly progressive company we have a small but prestigious group of clients well a lot of people consider me small and prestigious mr thats funny george youre very quick i feel like i like i dont have to explain every little thing to you you understand everything immediately i enjoy understanding mr i want you to have this job of course mr zimmer is on line 2 mr thanks ive got to take this call listen im really glad that you came in at monks i want you to have this job of course yeah thats it what do you mean thats it he never finished the sentence he got a call that was the end of the interview \"of course\" was the last thing he said maybe he was going to say \"of course i have to check with my associates\" \"i want you to have this job of course the board of directors is under indictment and will be serving time\" \"i want you to have this job of course sodomy is a prerequisite\" all right why dont you go ahead and call him\n",
      "\n",
      "S05_E09_The_Masseuse.txt <class 'str'>\n",
      "\n",
      "if theres a serial killer lose in your neighborhood it seems like the safest thing is to be the neighbor they never kill the neighbor the neighbor always survives to do the interview afterwards right \"oh he was kind of quiet\" i love these neighbors theyre never disturbed by the sounds of murdering just stereo chain saws people screaming fine just keep the music down and % these women who always fall in love with the serial killer they write to him in prison heres a woman thats hard to disappoint i guess shes only upset when she finds out hes stopped killing people and she \"you know sometimes i feel like i dont even know who you are anymore\" no eight years isnt such a long streak it isnt no i havent vomited in thirteen years get out not since june 29 1980 you remember the date yes because my previous vomit was also june 29th 1972 thats why during the 80 vomit i was yelling to \"can you believe it im vomiting on june 29th again\" boy you know when joel told me he hadnt thrown up in eight years i was wondering if he was normal your\n",
      "\n",
      "S05_E10_The_Cigar_Store_Indian.txt <class 'str'>\n",
      "\n",
      "jerrys standup piece you can always tell what was the best year of your fathers life because they seem to just freeze that clothing style and just ride it out to the end dont they and its not like they dont continue shopping its just they somehow manage to find new old clothes every father is like this fashion time capsule you know what i mean its like they should be on a pedestal with someone next to em going this was nineteen sixty-five to me the worst thing is shopping for pants i hate dressing and undressing in that little room what men need is a place to shop where you go in you check your pants at the door and you just walk around the store in your underwear that would be the best way then youd really have to lie to the salesman need some help no just getting some air elaine and jerry in the living room how would you describe the smell in this house dandruff yeah thats part of it kasha theres some kasha yeah dandruff kasha mothballs cheap carpeting its pot pourri really george enters from the kitchen alright lets go come on\n",
      "\n",
      "S05_E11_The_Conversion.txt <class 'str'>\n",
      "\n",
      "at the comedy club you know doctor is supposed to be such a prestigious occupation but its really like one of the only jobs where you have to have your diploma right up there on the wall it makes them seem so insecure doesnt it \"i really am a doctor you know you think im not just check it out\" i dont know why they need these little bits of psychological leverage over us all the time \"go in that little room take your pants off wait 15 minutes and ill give you my opinion\" after that anyone that comes in with pants on seems like they know what theyre talking about in any difference of opinion pants always beats no-pants at a restaurant can i say one word to you lobster the lobster here is unbelievable ooh a little expensive georges girlfriend twenty five dollars yes well you know im not thinking about the price you know youre the only woman ive never thought about the price get the lobster i beg you to get the lobster go for the lobster georges george george uh i think we have to talk i think we have a problem we do\n",
      "\n",
      "S05_E12_The_Stall.txt <class 'str'>\n",
      "\n",
      "elaine what a dope uhexcuse me umm im sorry this is this is kind of embarrassing but theres no toilet paper over here jane are you talking to me elaine yeah i i just forgot to check so if you could just spare me some jane no im sorry elaine what jane no im sorry i cant spare it elaine you cant spare it jane no theres not enough to spare elaine well i dont need much just 3 squares will do it jane im sorry i dont have a square to spare now if you dont mind elaine 3 squares you cant spare 3 squares jane no i dont have a square to spare i cant spare a square elaine oh is it two-ply cause it its two-ply ill take one ply one ply one one puny little ply ill take one measly ply jane look i dont have a square and i dont have a ply elaine no no no no dont dont i beg you jerry hmm i love this artificial flavoring i like it better than butter i think its more consistent jane you would not believe what just happened to me in the bathroom jerry\n",
      "\n",
      "S05_E13_The_Dinner_Party.txt <class 'str'>\n",
      "\n",
      "monologue we never should have landed a man on the moon its a mistake now everything is compared to that one accomplishment i cant believe they could land a man on the moon and taste my coffee i think we all would have been a lot happier if they hadnt landed a man on the moon then wed go they cant make a prescription bottle top thats easy to open im not surprised they couldnt land a man on the moon things make perfect sense to me now neil armstrong should have said \"thats one small step for man one giant leap for every complaining sob on the face of the earth \" hey do you believe i got happy new year today its february i once got happy new year in july its its pathetic hey is it cold out its really cold scary cold i dont know whats your definition of scary cold that huh what is that ha what when did you get that this week my father got a deal from a friend of his its gore-tex you know about gore-tex you like saying gore-tex dont you you cant even turn around in that thing look\n",
      "\n",
      "S05_E14_The_Marine_Biologist.txt <class 'str'>\n",
      "\n",
      "well did he bring it up in the meeting elaine see this t-shirts six years ive had this t-shirts its my best one i call himgolden boy im on the phone here golden boy is always the first shirt i wear out of the laundry here touch golden boy no thanks yeah yeah ill hold but see look at the collar see its fraying golden boy is slowly dying each wash is brings him one step closer thats what makes the t-shirts such a tragic figure why dont you just let golden boy soak in the sink with some woolight no the reason hes iron man is because he goes out there and plays every game wash spin rinse spin you take that away from him you break his spirit yeah oh what he is oh this is so fantastic im so excited yes im excited ok ill be in soon ok ok im coming yeah yeah im coming im coming yuri testikov the russian writer the guy in the gulag yeah pendants publishing his new book and im working on it lippman and i are going to the airport to pick him up thursday in a limousine you wanna\n",
      "\n",
      "S05_E15_The_Pie.txt <class 'str'>\n",
      "\n",
      "hum that was really good yeah are you full oh no ive had just enough here we go apple pie best apple pie in the city delicious im not waiting for you take some no thanks youre not gonna have any no do you not like apple pie no its not that well at least taste it no you wont even taste it no come on try it a little taste come on did she say why no she wouldnt say anything she just kept shaking her head like this maybe shes diabetic no she carries entemanns doughnuts in her purse maybe you said something that offended her the only thing i can think of is i told her we should have those moving walkways all over the city like at the airport yeah thats a great idea tell me about it we could be zipping all over the place they could at least try it they never try anything whats the harm no harm im sorry theres no reason for her not to taste that pie who wouldnt taste a pie audrey dump her boy i never broke up with anyone for not tasting pie i once broke up\n",
      "\n",
      "S05_E16_The_Stand-In.txt <class 'str'>\n",
      "\n",
      "opening the bus is the single stupidest fattest slowest most despised vehicle on the road isnt it you ever notice when you get behind the bus people in your car go what are you doing get away come on the back of the bus is like an eclipse isnt it people are just like the sun wheres the sun its like this huge metal ass taking up the whole wind shield of your car when it pulls out it even sounds like a fat uncle trying to get out of a sofa its just not good its not good its not good im bored shes boring im boring were both boring we got out to eat we both read newspapers well at breakfast everybody reads no lunch we read dinner we read you read during lunch ya oh well theres nothing to talk about ya whats there to talk about well at least you and i are talking about how theres nothing to talk about why dont you talk to her about how theres nothing to talk about she knows there is nothing to talk about at least youll be talking oh shut up hey look whos here hey al\n",
      "\n",
      "S05_E17_The_Wife.txt <class 'str'>\n",
      "\n",
      "jerrys of all the places that you go all the time the dry-cleaning relationship is one of the most bizarre because you keep giving each other the same thing back and forth over and over again he gives it to you you give it to him he gives it back to you its like its half his shirt in a way he has it as much as you doyou oughta go shopping with him what do you think of this shirt that would look good with a light starch the only warning label people really respect is dry-clean only yknow what i mean speed limits lung cancer cigarette warnings - your very life is at stake people go ah the hell with it but dry-clean only oh dont put that in the wash its dry-clean only are you crazy opening scene - jerry and his girlfriend meryl at jerrys apartment meryl comes out of jerrys bedroom good morning good morning howd you sleep hey you are the couch tonight young lady you were all over my side i was not cmon i was sleeping with one cheek off the bed by the way youre falling way behind on the i\n",
      "\n",
      "S05_E18_The_Raincoats_Part_1.txt <class 'str'>\n",
      "\n",
      "i really feel as human beings we need more training in our basic social skills conversational distance dont you hate these people that talk to you they talk into your mouth like youre a clown at a drive-through and hand shakes is the worst theres absolutely no guidelines for hand shakes you know these people too long too weak sometimes they give you the three-quarter handshake just the fingers early release late release sometimes people will dispute your release you let go therere hangin on i have actually said to people hey the handshake is over too many pumps coming in too high too sweaty coming from too far away sometimes a guy will give you a strong grip late release and pull you in for the too close conversation to him i say thats three strikes youre out you know their timing couldnt be worse is there ever a good time to have your parents stay with you you dont understand i havent been together with rachel for like three weeks first i was on the road then my parents show up im getting a little uh backed up when are they leaving for paris not for another three\n",
      "\n",
      "S05_E19_The_Raincoats_Part_2.txt <class 'str'>\n",
      "\n",
      "i really feel as human beings we need more training in our basic social skills conversational distance dont you hate these people that talk to you they talk into your mouth like youre a clown at a drive-through and hand shakes is the worst theres absolutely no guidelines for hand shakes you know these people too long too weak sometimes they give you the three-quarter handshake just the fingers early release late release sometimes people will dispute your release you let go therere hangin on i have actually said to people hey the handshake is over too many pumps coming in too high too sweaty coming from too far away sometimes a guy will give you a strong grip late release and pull you in for the too close conversation to him i say thats three strikes youre out you know their timing couldnt be worse is there ever a good time to have your parents stay with you you dont understand i havent been together with rachel for like three weeks first i was on the road then my parents show up im getting a little uh backed up when are they leaving for paris not for another three\n",
      "\n",
      "S05_E20_The_Fire.txt <class 'str'>\n",
      "\n",
      "jerrys to me the thing about birthday parties is that the first birthday party you have and the last birthday party you have are actually quite similar you know you just kinda sit thereyoure the least excited person at the party you dont even really realize that there is a party you dont know whats goin on both birthday parties people have to kinda help you blow out the candles you cant do ityou dont even know why youre doing it what is this ritual what is going on its also the only two birthday parties where other people have to gather your friends together for you sometimes theyre not even your friends they make the judgement they bring em in they sit em down and they tell you - these are your friends tell them thank you for coming to my birthday party opening scene - elaine kramer and kramers excitable girlfriend toby in elaines office at pendant theyre looking at proofs for kramers \"coffee table book about coffee tables\" toby these are great just great really great really really great dont you think so elaine elaine yeah really great a coffee table book about coffee tables <to kramer>\n",
      "\n",
      "S05_E21_The_Hamptons.txt <class 'str'>\n",
      "\n",
      "opening look at the work people do to get to the ocean theyll fight the traffic and the heat and the parking and the hot sand trying to get through the waves and the ironic thing is the ocean doesnt even want us in there thats what surfing is surfing is the ocean throwing us out of itself you see we keep trying to paddle in the oceans saying \"no you dont\" the ocean is like a nightclub and the waves are bouncers tossin us out the undertows like a really mean bouncer instead of throwin you out they take you in back and rough you up a little bit \"oh you wanna come in how bout comin in like 25 miles\" jerry driving in his car with elaine in passenger seat and kramer in back seat all right get off at the next exit kramer ive driven to the hamptons many times i know the exit its a great house pools something yeah ill be there you sure were makin the right move we gotta see the new baby anyway at least well get a weekend in the hamptons out of it didnt they just have a baby that\n",
      "\n",
      "S05_E22_The Opposite.txt <class 'str'>\n",
      "\n",
      "opening monologue jerry it is pretty hard to justify at this point in history the existence of men and their handkerchiefs i mean they open it up blow their nose in it and then put it back in their pockets with their other valuables wallet keys mucous yup ive got everything is it because men cant give birth that theyre just proud of anything that comes out of us we actually have a monogram sewn on to them what is the source of pride here we actually have it sticking out of the breast pocket of our jacket \"i have a snot rag\" we see a sad-looking george staring out at the ocean then cut to the office of mrlippman where elaine and mr lippman are toasting in champagne mr lippman to your promotion elaine oh thank you oh thank you mr lippman i cant tell you how much i appreciate this i mean of course i deserve it mr lippman well youre really on your way now elaine screams with joy and mr lippman coughs violently elaine you really oughtta do something about that cold cut to monks jerry you got a raise elaine i dont fool around baby\n",
      "\n"
     ]
    }
   ],
   "source": [
    "for i in seinfeld_season_5_episodes:\n",
    "    \n",
    "    with open(seinfeld_directory + i, 'r') as file:\n",
    "        raw_text_episode = file.read().replace('\\n', ' ')\n",
    "    \n",
    "    print(i + ' ' + str(type(raw_text_episode)) + '\\n')\n",
    "    \n",
    "    clean_text_episode = clean_text(raw_text_episode)\n",
    "    print(' '.join(clean_text_episode[:200]) + '\\n')"
   ]
  },
  {
   "cell_type": "markdown",
   "metadata": {},
   "source": [
    "## Tokenize The Sentence"
   ]
  },
  {
   "cell_type": "code",
   "execution_count": 9,
   "metadata": {},
   "outputs": [],
   "source": [
    "#Uses the NLP tokenize method to tokenize the script\n",
    "\n",
    "def tokenize(cleaned_text):\n",
    "    joined_sentence = ' '.join(cleaned_text)\n",
    "    tokenized_sentence = word_tokenize(joined_sentence)\n",
    "    \n",
    "    return tokenized_sentence"
   ]
  },
  {
   "cell_type": "code",
   "execution_count": 10,
   "metadata": {},
   "outputs": [
    {
     "data": {
      "text/plain": [
       "'i cant believe this oh it wont be for that long how can i do this how can i move back in with those people please tell me theyre insane you know that hey my parents are just as crazy as your parents how can you compare you parents to my parents my father has never thrown anything out ever my father wears his sneakers in the pool sneakers my mother has never set foot in a natural body of water listen carefully my mother has never laughed ever not a giggle not a chuckle not a tee-hee never went ha a smirk maybe and im moving back in there i told you id lend you the money for the rent no no no no borrowing money from a friend is like having sex it just completely changes the relationship alright im ready you know i still dont understand - why do you want to move back in with your parents i dont want to im outta money i got 714 dollars left in the bank well move in here whats that why doesnt he just move in here yeah yeah im gon na move in with him he doesnt'"
      ]
     },
     "execution_count": 10,
     "metadata": {},
     "output_type": "execute_result"
    }
   ],
   "source": [
    "tokenized_text_episode_2 = tokenize(clean_text_episode_2)\n",
    "' '.join(tokenized_text_episode_2[:200])"
   ]
  },
  {
   "cell_type": "markdown",
   "metadata": {},
   "source": [
    "# Vectorization\n",
    "\n",
    "## Method 1: Count Vectorization"
   ]
  },
  {
   "cell_type": "code",
   "execution_count": 11,
   "metadata": {
    "scrolled": true
   },
   "outputs": [
    {
     "name": "stdout",
     "output_type": "stream",
     "text": [
      "{'really': 4, 'exquisite': 2, 'smirk': 1, 'hell': 1, 'soft': 2, 'shes': 6, 'sitting': 1, 'talking': 5, 'mention': 1, 'tee-hee': 1, 'cant': 7, 'getting': 2, 'delicate': 1, 'nice': 1, 'compassionate': 1, 'ha': 1, 'plenty': 1, 'frank': 1, 'maybe': 3, 'true': 2, 'cares': 1, 'today': 5, 'help': 2, 'oven': 1, 'very': 4, 'new': 6, 'well': 13, 'them': 11, 'stocking': 1, 'pay': 1, 'acupuncturists': 1, 'tv': 4, 'hair': 1, 'to': 58, 'fact': 1, 'i': 90, 'more': 6, 'excuse': 2, 'tip-top': 1, 'terrific': 1, 'ridiculous': 2, 'for': 10, 'puffy': 11, 'check': 1, 'neither': 1, 'life': 1, 'with': 15, 'want': 11, 'one': 8, 'now': 7, 'kind': 2, 'not': 11, 'got': 13, 'mentioned': 2, 'mailman': 1, 'giddy-up': 1, 'bop': 1, 'hope': 2, 'young': 1, 'count': 1, 'nodding': 1, 'over': 2, 'model': 2, 'dollar': 3, 'volunteer': 1, 'point': 1, 'session': 1, 'puffed': 2, 'uhh': 1, 'this': 25, 'match': 1, 'ta': 4, 'bet': 1, 'men': 1, 'lend': 1, 'lot': 2, 'moving': 1, 'was': 14, 'up': 7, 'kinda': 2, 'fashions': 1, 'still': 1, 'board': 1, 'restaurant': 1, 'silver': 3, 'um': 1, 'stress': 1, 'before': 2, 'person': 1, 'fine': 1, 'college': 1, 'beauty': 1, 'night': 1, 'masculine': 1, 'department': 1, 'from': 3, 'glad': 1, 'utensils': 1, 'scouts': 1, 'us': 1, 'room': 1, 'worried': 1, 'they': 4, 'noticed': 1, 'heres': 1, 'chuckle': 1, 'borrowing': 1, 'interested': 1, 'gon': 9, 'a': 54, 'dollars': 1, 'nothing': 2, 'every': 1, 'dont': 19, 'low-talkers': 1, '90s': 1, 'who': 2, 'theres': 2, 'ever': 7, 'ayye': 1, 'ive': 3, 'it': 36, 'tonight': 1, 'captain': 1, 'remember': 1, 'white': 4, 'so': 11, 'please': 4, 'move': 7, 'speaking': 1, 'no': 16, 'its': 11, 'spend': 1, 'word': 2, 'nut': 1, 'careful': 3, 'yes': 10, 'traveled': 1, 'because': 2, 'leslie': 2, 'doing': 1, 'he': 14, 'put': 1, 'of': 18, 'benefit': 4, 'looks': 2, 'test': 4, 'herbalists': 1, 'hears': 1, 'yet': 2, 'pair': 1, 'there': 6, 'clothing': 3, 'me': 22, 'sneakers': 2, 'civil': 4, 'thank': 4, 'domain': 1, 'else': 1, 'never': 8, 'painted': 1, 'at': 10, 'overuse': 1, 'thats': 8, 'completely': 1, 'mckigney': 1, 'happened': 2, 'ugh': 1, 'hey': 6, 'into': 2, 'tragic': 1, 'based': 2, 'speaks': 1, 'am': 3, 'offer': 1, 'photo': 1, 'bank': 1, 'sex': 1, 'performers': 1, 'asking': 1, 'everybodys': 1, 'any': 4, 'toilet': 1, 'clothe': 2, 'didya': 1, 'how': 9, 'agree': 1, 'boutiques': 1, 'orders': 2, 'hands': 18, 'indigent': 2, 'contest': 1, 'mitts': 1, 'father': 3, 'manual': 1, 'use': 2, 'home': 1, 'knuckles': 1, 'youre': 14, 'perfect': 1, 'cure': 1, 'talent': 1, 'knew': 3, 'whatdya': 1, 'guys-': 1, 'thing': 1, 'facing': 1, 'proportion': 1, 'bathroom': 2, 'someone': 1, 'if': 2, 'know': 19, 'crazy': 4, 'office': 1, '714': 1, 'give': 2, 'going': 10, 'taking': 1, 'worth': 1, 'were': 4, 'one-in-a-million': 1, 'wear': 13, 'has': 5, 'woman': 6, 'couldve': 1, 'television': 1, 'collection': 2, 'compare': 1, 'little': 2, 'done': 2, 'months': 1, 'hadnt': 1, 'ill': 5, 'an': 2, 'told': 1, 'ya': 2, 'coulda': 1, 'self-control': 1, 'keep': 1, 'uh': 7, 'wears': 1, 'end': 1, 'seinfeld': 1, 'insane': 1, 'own': 3, 'sorry': 4, 'in': 29, 'national': 1, 'dinner': 3, 'had': 5, 'devil-may-care': 1, 'much': 2, 'that': 28, 'cool': 1, 'lets': 3, 'first': 1, 'bryant': 2, 'and': 21, 'talk': 3, 'already': 1, 'unable': 1, 'im': 13, 'parents': 6, 'lowtalker': 1, 'need': 1, 'theyre': 8, 'milky': 4, 'comparing': 1, 'funny': 1, 'always': 4, 'post': 1, 'card': 1, 'is': 17, 'pirate': 4, 'comfortable': 1, 'job': 2, 'your': 11, 'hello': 2, 'place': 1, 'homeless': 2, 'saying': 2, 'scissor': 1, 'why': 8, '18': 1, 'pirates': 2, 'become': 1, 'provides': 1, 'waiter': 1, 'couldnt': 5, 'touch': 1, 'jobs': 1, 'speak': 1, 'wont': 1, 'ray': 3, 'but': 10, 'just': 10, 'changes': 1, 'door': 2, 'successor': 1, 'locked': 1, 'hear': 4, 'only': 2, 'hand': 10, 'left': 2, 'modeling': 2, 'big': 1, 'avoiding': 1, 'making': 1, 'friend': 1, 'most': 1, 'nobody': 1, 'constant': 1, 'love': 1, 'here': 6, 'mother': 3, 'think': 4, 'morning': 2, 'about': 13, 'needy': 1, 'likes': 1, 'conversation': 1, 'sure': 1, 'pizza': 1, 'back': 5, 'water': 1, 'people': 6, 'ohh': 1, 'head': 1, 'easy': 1, 'extraordinary': 1, 'until': 1, \"''\": 2, 'stop': 2, 'like': 10, 'minutes': 2, 'building': 2, 'ok': 1, 'even': 2, 'thinking': 1, 'bickering': 1, 'wearing': 6, 'side': 1, 'tuesday': 1, 'quite': 1, 'him': 5, 'pass': 1, 'call': 1, 'laughed': 1, 'toy': 1, 'we': 4, 'touched': 1, 'bag': 1, 'monte': 1, 'find': 1, 'comedian': 1, '-': 21, 'anything': 5, 'body': 1, 'right': 5, 'ask': 1, 'hmm': 1, 'claw': 1, 'feed': 1, 'yeah': 25, 'outta': 1, 'bologna': 4, 'kidding': 1, 'na': 9, 'promoting': 2, 'stuff': 2, 'her': 2, 'dressed': 1, 'became': 3, 'audience': 1, 'didnt': 3, 'may': 1, 'mens': 1, 'mrs': 2, 'whyd': 1, 'whos': 1, 'truth': 1, 'spilled': 1, 'she': 6, 'mmm': 1, 'eats': 1, 'beautiful': 1, 'something': 1, 'emory': 1, 'important': 1, 'worry': 1, 'alright': 5, 'jell-o': 2, 'week': 1, 'great': 2, 'thrown': 1, 'designer': 1, 'five': 2, 'suitcases': 1, 'muscles': 1, '``': 2, 'good': 2, 'service': 5, 'can': 6, 'guess': 2, 'creamy': 1, 'eventually': 1, 'than': 2, 'anymore': 1, 'cristo': 1, 'producing': 1, 'jersey': 1, 'chandelier': 1, 'shirt': 12, 'eh': 1, 'friday': 1, 'goodwill': 2, 'take': 7, 'a-a-a-a-a': 1, 'wha': 1, 'show': 5, 'master': 1, 'these': 6, 'my': 18, 'work': 4, 'poor': 2, 'let': 6, 'seen': 5, 'elaine': 2, 'deformed': 1, 'his': 10, 'out': 9, 'made': 1, 'as': 3, 'tell': 5, 'will': 3, 'look': 14, 'aye': 1, 'okay': 3, 'whole': 2, 'meet': 1, 'security': 1, 'set': 3, 'better': 2, 'kramer': 6, 'ready': 1, 'idea': 1, 'uh-huh': 2, 'believe': 4, 'what': 32, 'girlfriend': 1, 'air': 1, 'try': 1, 'mean': 3, 'fantastic': 1, 'feel': 1, 'another': 1, 'come': 5, 'doesnt': 3, 'pie': 1, 'later': 2, 'jerry': 8, 'frozen': 1, 'giggle': 1, 'manipulate': 1, 'all': 13, 'or': 1, 'joke': 1, 'would': 4, 'youd': 1, 'georgie': 3, 'world': 2, 'other': 1, 'sees': 1, 'went': 4, 'close': 1, 'stores': 2, 'agreed': 3, 'cub': 1, 'york': 1, 'off': 1, 'shape': 1, 'makin': 1, 'swamis': 1, 'eat': 2, 'sandwich': 1, 'time': 2, 'damaged': 1, 'hi': 1, 'supposed': 1, 'trend': 1, 'looking': 1, 'strained': 1, 'foot': 1, 'since': 2, 'wanted': 1, 'pool': 1, 'sandwiches': 3, 'swing': 1, 'organization': 1, 'carefully': 1, 'nah': 1, 'labor': 1, 'down': 1, 'smooth': 1, 'phobia': 1, 'course': 1, 'whyre': 1, 'yep': 6, 'might': 2, 'condition': 1, 'having': 1, 'been': 1, 'go': 4, 'have': 11, 'long': 1, 'could': 2, 'towards': 1, 'understand': 3, 'handing': 1, 'said': 8, 'wha-': 1, 'when': 10, 'gumbel': 1, 'bring': 2, 'remind': 1, 'get': 6, 'do': 14, 'see': 3, 'epidermis': 1, 'wants': 1, 'myself': 1, 'position': 1, 'the': 70, 'jerrys': 1, 'id': 3, 'saw': 1, 'asked': 2, 'business': 1, 'used': 3, 'unusual': 1, 'won': 1, 'money': 4, 'damaging': 1, 'industries': 1, 'god': 2, 'natural': 1, 'make': 1, 'afraid': 1, 'minimum': 1, 'seeking': 1, 'ironed': 1, 'costanza': 2, 'did': 3, 'factory': 1, 'terribly': 1, 'comes': 1, 'mckigneys': 1, 'are': 19, '19th': 1, 'graduate': 1, 'happening': 1, 'oh': 14, 'listen': 1, 'helped': 1, 'youve': 2, 'story': 1, 'dependent': 1, 'should': 1, 'where': 4, 'some': 5, 'none': 1, 'car': 1, 'whats': 2, 'you': 87, 'health': 1, 'on': 16, 'mind': 1, 'two': 3, 'be': 17, 'relationship': 1, 'george': 6, 'rent': 1, 'thanks': 2, 'those': 4, 'hes': 2, 'bananas': 3}\n"
     ]
    }
   ],
   "source": [
    "#(Note: This function is adapted from a guide by 'Learn.Co' titled 'Word Vectorization - Lab')\n",
    "\n",
    "def count_vectorize(episode, vocab=None):\n",
    "    if vocab:\n",
    "        unique_words = vocab\n",
    "    else:\n",
    "        unique_words = list(set(episode))\n",
    "    \n",
    "    episode_dict = {i:0 for i in unique_words}\n",
    "    \n",
    "    for word in episode:\n",
    "        episode_dict[word] += 1\n",
    "    \n",
    "    return episode_dict\n",
    "\n",
    "vectorized_episode_2 = count_vectorize(tokenized_text_episode_2)\n",
    "print(vectorized_episode_2)"
   ]
  },
  {
   "cell_type": "markdown",
   "metadata": {},
   "source": [
    "## Method 2: Vectorization with TF-IDF"
   ]
  },
  {
   "cell_type": "code",
   "execution_count": 12,
   "metadata": {},
   "outputs": [],
   "source": [
    "#Takes in a dictionary representing a document where the keys are unique words\n",
    "#and the values are the count of those words\n",
    "\n",
    "#Returns the term frequency as the value for those words\n",
    "#(number of times word appears in a document)/(total number of words in a document)\n",
    "#NOTE: The denominator is not total word count of the document it is total unique words\n",
    "\n",
    "def term_frequency(BoW_dict):\n",
    "    total_word_count = sum(BoW_dict.values())\n",
    "    \n",
    "    for ind, val in BoW_dict.items():\n",
    "        BoW_dict[ind] = val/ total_word_count\n",
    "    \n",
    "    return BoW_dict\n",
    "\n",
    "episode_2_term_frequency = term_frequency(vectorized_episode_2)"
   ]
  },
  {
   "cell_type": "code",
   "execution_count": 13,
   "metadata": {},
   "outputs": [
    {
     "name": "stdout",
     "output_type": "stream",
     "text": [
      "i  : 0.0407055630936228  \n",
      "you  : 0.03934871099050204  \n",
      "the  : 0.031659882406151064  \n",
      "to  : 0.026232473993668022  \n",
      "a  : 0.024423337856173677  \n",
      "it  : 0.016282225237449117  \n",
      "what  : 0.014473089099954772  \n",
      "in  : 0.013116236996834011  \n",
      "that  : 0.012663952962460425  \n",
      "this  : 0.011307100859339666  \n"
     ]
    }
   ],
   "source": [
    "from collections import Counter\n",
    "\n",
    "for i in Counter(episode_2_term_frequency).most_common(10): \n",
    "    print(i[0],\" :\",i[1],\" \") "
   ]
  },
  {
   "cell_type": "code",
   "execution_count": 14,
   "metadata": {},
   "outputs": [],
   "source": [
    "#Takes in a list of dictionaries where the elements are dictionaries representing each\n",
    "#document and where the keys are unique words and the values are the count of those words\n",
    "\n",
    "#Returns the Inverse Document frequency for each term in the Corpus:\n",
    "#IDF(term) = log_e(Total Number of Documents in the Corpus/\n",
    "#                  Number of Documents with 'Term' in It)\n",
    "#Note: This function returns a dictionary where each key is a Corpus' unique term\n",
    "#and the corresponding value is the IDF of that term\n",
    "\n",
    "#(Note: This function is adapted from a guide by 'Learn.Co' titled 'Word Vectorization - Lab')\n",
    "\n",
    "def inverse_document_frequency(list_of_dicts):\n",
    "    \n",
    "    # Creates a set of all unique words in the corpus\n",
    "    vocab_set = set()\n",
    "    # Iterate through list of dfs and add index to vocab_set\n",
    "    for d in list_of_dicts:\n",
    "        for word in d.keys():\n",
    "            vocab_set.add(word)\n",
    "    \n",
    "    # Once vocab set is complete, create an empty dictionary with a key for each word and value of 0.\n",
    "    full_vocab_dict = {i:0 for i in vocab_set}\n",
    "    \n",
    "    # Loop through each word in full_vocab_dict\n",
    "    for word, val in full_vocab_dict.items():\n",
    "        docs = 0\n",
    "        \n",
    "        # Loop through list of dicts.  Each time a dictionary contains the word, increment docs by 1\n",
    "        for d in list_of_dicts:\n",
    "            if word in d:\n",
    "                docs += 1\n",
    "        \n",
    "        # Now that we know denominator for equation, compute and set IDF value for word\n",
    "        \n",
    "        full_vocab_dict[word] = np.log((len(list_of_dicts)/ float(docs)))\n",
    "    \n",
    "    return full_vocab_dict"
   ]
  },
  {
   "cell_type": "code",
   "execution_count": 15,
   "metadata": {},
   "outputs": [],
   "source": [
    "#Takes in a list of dictionaries where the elements are dictionaries representing each\n",
    "#document and where the keys are unique words and the values are the count of those words\n",
    "\n",
    "#Retuns a list of dictionaries where the elements are dictionaries representing each\n",
    "#document and where each dictionary's values represent a term's TF-IDF values for\n",
    "#that document\n",
    "\n",
    "#(Note: This function is adapted from a guide by 'Learn.Co' titled 'Word Vectorization - Lab')\n",
    "\n",
    "def tf_idf(list_of_dicts):\n",
    "    # Create empty dictionary containing full vocabulary of entire corpus\n",
    "    doc_tf_idf = {}\n",
    "    idf = inverse_document_frequency(list_of_dicts)\n",
    "    full_vocab_list = {i:0 for i in list(idf.keys())}\n",
    "    \n",
    "    # Create tf-idf list of dictionaries, containing a dictionary that will be updated for each document\n",
    "    tf_idf_list_of_dicts = []\n",
    "    \n",
    "    # Now, compute tf and then use this to compute and set tf-idf values for each document\n",
    "    for doc in list_of_dicts:\n",
    "        \n",
    "        doc_tf = term_frequency(doc)\n",
    "        #(number of times word appears in a document)/(total number of words in a document)\n",
    "\n",
    "        #Iterates through each key in one document's TF dictionary\n",
    "        for word in doc_tf:\n",
    "            doc_tf_idf[word] = doc_tf[word] * idf[word]\n",
    "        tf_idf_list_of_dicts.append(doc_tf_idf)\n",
    "    \n",
    "    return tf_idf_list_of_dicts"
   ]
  },
  {
   "cell_type": "code",
   "execution_count": 16,
   "metadata": {},
   "outputs": [
    {
     "name": "stdout",
     "output_type": "stream",
     "text": [
      "S05_E01_The_Mango.txt\n"
     ]
    },
    {
     "ename": "TypeError",
     "evalue": "expected string or bytes-like object",
     "output_type": "error",
     "traceback": [
      "\u001b[0;31m---------------------------------------------------------------------------\u001b[0m",
      "\u001b[0;31mTypeError\u001b[0m                                 Traceback (most recent call last)",
      "\u001b[0;32m<ipython-input-16-3da399a39358>\u001b[0m in \u001b[0;36m<module>\u001b[0;34m\u001b[0m\n\u001b[1;32m     20\u001b[0m     \u001b[0;32mreturn\u001b[0m \u001b[0mtf_idf_all_docs\u001b[0m\u001b[0;34m\u001b[0m\u001b[0;34m\u001b[0m\u001b[0m\n\u001b[1;32m     21\u001b[0m \u001b[0;34m\u001b[0m\u001b[0m\n\u001b[0;32m---> 22\u001b[0;31m \u001b[0mtf_idf_all_docs\u001b[0m \u001b[0;34m=\u001b[0m \u001b[0mmain\u001b[0m\u001b[0;34m(\u001b[0m\u001b[0mseinfeld_season_5_episodes\u001b[0m\u001b[0;34m)\u001b[0m\u001b[0;34m\u001b[0m\u001b[0;34m\u001b[0m\u001b[0m\n\u001b[0m\u001b[1;32m     23\u001b[0m \u001b[0mprint\u001b[0m\u001b[0;34m(\u001b[0m\u001b[0mlist\u001b[0m\u001b[0;34m(\u001b[0m\u001b[0mtf_idf_all_docs\u001b[0m\u001b[0;34m[\u001b[0m\u001b[0;36m0\u001b[0m\u001b[0;34m]\u001b[0m\u001b[0;34m)\u001b[0m\u001b[0;34m[\u001b[0m\u001b[0;34m:\u001b[0m\u001b[0;36m10\u001b[0m\u001b[0;34m]\u001b[0m\u001b[0;34m)\u001b[0m\u001b[0;34m\u001b[0m\u001b[0;34m\u001b[0m\u001b[0m\n",
      "\u001b[0;32m<ipython-input-16-3da399a39358>\u001b[0m in \u001b[0;36mmain\u001b[0;34m(filenames)\u001b[0m\n\u001b[1;32m      8\u001b[0m         \u001b[0mprint\u001b[0m\u001b[0;34m(\u001b[0m\u001b[0mfile\u001b[0m\u001b[0;34m)\u001b[0m\u001b[0;34m\u001b[0m\u001b[0;34m\u001b[0m\u001b[0m\n\u001b[1;32m      9\u001b[0m         \u001b[0;31m# Clean and tokenize raw text\u001b[0m\u001b[0;34m\u001b[0m\u001b[0;34m\u001b[0m\u001b[0;34m\u001b[0m\u001b[0m\n\u001b[0;32m---> 10\u001b[0;31m         \u001b[0mcleaned\u001b[0m \u001b[0;34m=\u001b[0m \u001b[0mclean_text\u001b[0m\u001b[0;34m(\u001b[0m\u001b[0mraw_data\u001b[0m\u001b[0;34m)\u001b[0m\u001b[0;34m\u001b[0m\u001b[0;34m\u001b[0m\u001b[0m\n\u001b[0m\u001b[1;32m     11\u001b[0m         \u001b[0mtokenized\u001b[0m \u001b[0;34m=\u001b[0m \u001b[0mtokenize\u001b[0m\u001b[0;34m(\u001b[0m\u001b[0mcleaned\u001b[0m\u001b[0;34m)\u001b[0m\u001b[0;34m\u001b[0m\u001b[0;34m\u001b[0m\u001b[0m\n\u001b[1;32m     12\u001b[0m \u001b[0;34m\u001b[0m\u001b[0m\n",
      "\u001b[0;32m<ipython-input-6-86c292dca46e>\u001b[0m in \u001b[0;36mclean_text\u001b[0;34m(raw_text)\u001b[0m\n\u001b[1;32m      1\u001b[0m \u001b[0;32mdef\u001b[0m \u001b[0mclean_text\u001b[0m\u001b[0;34m(\u001b[0m\u001b[0mraw_text\u001b[0m\u001b[0;34m)\u001b[0m\u001b[0;34m:\u001b[0m\u001b[0;34m\u001b[0m\u001b[0;34m\u001b[0m\u001b[0m\n\u001b[0;32m----> 2\u001b[0;31m     \u001b[0mraw_text_quotes\u001b[0m \u001b[0;34m=\u001b[0m \u001b[0mre\u001b[0m\u001b[0;34m.\u001b[0m\u001b[0msub\u001b[0m\u001b[0;34m(\u001b[0m\u001b[0;34m\"[\\(\\[].*?[\\)\\]]\"\u001b[0m\u001b[0;34m,\u001b[0m \u001b[0;34m\"\"\u001b[0m\u001b[0;34m,\u001b[0m \u001b[0mraw_text\u001b[0m\u001b[0;34m)\u001b[0m\u001b[0;34m\u001b[0m\u001b[0;34m\u001b[0m\u001b[0m\n\u001b[0m\u001b[1;32m      3\u001b[0m     \u001b[0mcleaned_text\u001b[0m \u001b[0;34m=\u001b[0m \u001b[0;34m[\u001b[0m\u001b[0;34m]\u001b[0m\u001b[0;34m\u001b[0m\u001b[0;34m\u001b[0m\u001b[0m\n\u001b[1;32m      4\u001b[0m     \u001b[0;32mfor\u001b[0m \u001b[0mword\u001b[0m \u001b[0;32min\u001b[0m \u001b[0mraw_text_quotes\u001b[0m\u001b[0;34m.\u001b[0m\u001b[0msplit\u001b[0m\u001b[0;34m(\u001b[0m\u001b[0;34m\" \"\u001b[0m\u001b[0;34m)\u001b[0m\u001b[0;34m:\u001b[0m\u001b[0;34m\u001b[0m\u001b[0;34m\u001b[0m\u001b[0m\n\u001b[1;32m      5\u001b[0m         \u001b[0;32mif\u001b[0m \u001b[0;32mnot\u001b[0m \u001b[0;34m\":\"\u001b[0m \u001b[0;32min\u001b[0m \u001b[0mword\u001b[0m\u001b[0;34m:\u001b[0m\u001b[0;34m\u001b[0m\u001b[0;34m\u001b[0m\u001b[0m\n",
      "\u001b[0;32m/anaconda3/lib/python3.7/re.py\u001b[0m in \u001b[0;36msub\u001b[0;34m(pattern, repl, string, count, flags)\u001b[0m\n\u001b[1;32m    190\u001b[0m     \u001b[0ma\u001b[0m \u001b[0mcallable\u001b[0m\u001b[0;34m,\u001b[0m \u001b[0mit\u001b[0m\u001b[0;31m'\u001b[0m\u001b[0ms\u001b[0m \u001b[0mpassed\u001b[0m \u001b[0mthe\u001b[0m \u001b[0mMatch\u001b[0m \u001b[0mobject\u001b[0m \u001b[0;32mand\u001b[0m \u001b[0mmust\u001b[0m \u001b[0;32mreturn\u001b[0m\u001b[0;34m\u001b[0m\u001b[0;34m\u001b[0m\u001b[0m\n\u001b[1;32m    191\u001b[0m     a replacement string to be used.\"\"\"\n\u001b[0;32m--> 192\u001b[0;31m     \u001b[0;32mreturn\u001b[0m \u001b[0m_compile\u001b[0m\u001b[0;34m(\u001b[0m\u001b[0mpattern\u001b[0m\u001b[0;34m,\u001b[0m \u001b[0mflags\u001b[0m\u001b[0;34m)\u001b[0m\u001b[0;34m.\u001b[0m\u001b[0msub\u001b[0m\u001b[0;34m(\u001b[0m\u001b[0mrepl\u001b[0m\u001b[0;34m,\u001b[0m \u001b[0mstring\u001b[0m\u001b[0;34m,\u001b[0m \u001b[0mcount\u001b[0m\u001b[0;34m)\u001b[0m\u001b[0;34m\u001b[0m\u001b[0;34m\u001b[0m\u001b[0m\n\u001b[0m\u001b[1;32m    193\u001b[0m \u001b[0;34m\u001b[0m\u001b[0m\n\u001b[1;32m    194\u001b[0m \u001b[0;32mdef\u001b[0m \u001b[0msubn\u001b[0m\u001b[0;34m(\u001b[0m\u001b[0mpattern\u001b[0m\u001b[0;34m,\u001b[0m \u001b[0mrepl\u001b[0m\u001b[0;34m,\u001b[0m \u001b[0mstring\u001b[0m\u001b[0;34m,\u001b[0m \u001b[0mcount\u001b[0m\u001b[0;34m=\u001b[0m\u001b[0;36m0\u001b[0m\u001b[0;34m,\u001b[0m \u001b[0mflags\u001b[0m\u001b[0;34m=\u001b[0m\u001b[0;36m0\u001b[0m\u001b[0;34m)\u001b[0m\u001b[0;34m:\u001b[0m\u001b[0;34m\u001b[0m\u001b[0;34m\u001b[0m\u001b[0m\n",
      "\u001b[0;31mTypeError\u001b[0m: expected string or bytes-like object"
     ]
    }
   ],
   "source": [
    "def main(filenames):\n",
    "    # Iterate through list of filenames and read each in\n",
    "    count_vectorized_all_documents = []\n",
    "    for file in filenames:\n",
    "        with open(seinfeld_directory + file) as f:\n",
    "            raw_data = f.readlines()\n",
    "            \n",
    "        print(file)\n",
    "        # Clean and tokenize raw text\n",
    "        cleaned = clean_text(raw_data)\n",
    "        tokenized = tokenize(cleaned)\n",
    "        \n",
    "        # Get count vectorized representation and store in count_vectorized_all_documents  \n",
    "        count_vectorized_document = count_vectorize(tokenized)\n",
    "        count_vectorized_all_documents.append(count_vectorized_document)\n",
    "    \n",
    "    # Now that we have a list of BoW respresentations of each song, create a tf-idf representation of everything\n",
    "    tf_idf_all_docs = tf_idf(count_vectorized_all_documents)\n",
    "    \n",
    "    return tf_idf_all_docs\n",
    "\n",
    "tf_idf_all_docs = main(seinfeld_season_5_episodes)\n",
    "print(list(tf_idf_all_docs[0])[:10])"
   ]
  },
  {
   "cell_type": "code",
   "execution_count": null,
   "metadata": {},
   "outputs": [],
   "source": []
  }
 ],
 "metadata": {
  "kernelspec": {
   "display_name": "Python 3",
   "language": "python",
   "name": "python3"
  },
  "language_info": {
   "codemirror_mode": {
    "name": "ipython",
    "version": 3
   },
   "file_extension": ".py",
   "mimetype": "text/x-python",
   "name": "python",
   "nbconvert_exporter": "python",
   "pygments_lexer": "ipython3",
   "version": "3.7.2"
  }
 },
 "nbformat": 4,
 "nbformat_minor": 2
}
