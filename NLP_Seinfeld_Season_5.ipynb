{
 "cells": [
  {
   "cell_type": "markdown",
   "metadata": {},
   "source": [
    "# Natural Language Processing (NLP) Process For Seinfeld Transcripts\n",
    "\n",
    "This notebook will outline the process of cleaning, tokenizing, and vectorizing text transcripts of Seinfeld Season 5 Episodes. Source of transcripts: https://www.seinfeldscripts.com/seinfeld-scripts.html"
   ]
  },
  {
   "cell_type": "code",
   "execution_count": 1,
   "metadata": {},
   "outputs": [
    {
     "name": "stderr",
     "output_type": "stream",
     "text": [
      "[nltk_data] Downloading package punkt to /Users/Alex/nltk_data...\n",
      "[nltk_data]   Package punkt is already up-to-date!\n"
     ]
    }
   ],
   "source": [
    "#Import the NLTK library, tokenizer, and methods\n",
    "import nltk\n",
    "nltk.download('punkt')\n",
    "from nltk import word_tokenize\n",
    "from nltk import sent_tokenize\n",
    "\n",
    "import pandas as pd\n",
    "import numpy as np\n",
    "from sklearn.manifold import TSNE\n",
    "\n",
    "#Import visualization libraries\n",
    "import matplotlib.pyplot as plt\n",
    "%matplotlib inline\n",
    "from mpl_toolkits.mplot3d import Axes3D\n",
    "\n",
    "import re"
   ]
  },
  {
   "cell_type": "markdown",
   "metadata": {},
   "source": [
    "## Read The Files"
   ]
  },
  {
   "cell_type": "code",
   "execution_count": 2,
   "metadata": {},
   "outputs": [],
   "source": [
    "seinfeld_directory = 'Seinfeld_Episodes/Season_5/'\n",
    "\n",
    "seinfeld_season_5_episodes = ['S05_E01_The_Mango.txt', 'S05_E02_The_Puffy_Shirt.txt',\n",
    "                              'S05_E03_The_Glasses.txt', 'S05_E04_The_Sniffing_Accountant.txt',\n",
    "                              'S05_E05_The_Bris.txt', 'S05_E06_The_Lip_Reader.txt',\n",
    "                              'S05_E07_The_Non_Fat_Yogurt.txt', 'S05_E08_The_Barber.txt',\n",
    "                              'S05_E09_The_Masseuse.txt', 'S05_E10_The_Cigar_Store_Indian.txt',\n",
    "                              'S05_E11_The_Conversion.txt', 'S05_E12_The_Stall.txt',\n",
    "                              'S05_E13_The_Dinner_Party.txt', 'S05_E14_The_Marine_Biologist.txt',\n",
    "                              'S05_E15_The_Pie.txt', 'S05_E16_The_Stand-In.txt',\n",
    "                              'S05_E17_The_Wife.txt', 'S05_E18_The_Raincoats_Part_1.txt',\n",
    "                              'S05_E19_The_Raincoats_Part_2.txt', 'S05_E20_The_Fire.txt',\n",
    "                              'S05_E21_The_Hamptons.txt', 'S05_E22_The Opposite.txt']\n"
   ]
  },
  {
   "cell_type": "code",
   "execution_count": 3,
   "metadata": {},
   "outputs": [],
   "source": [
    "with open(seinfeld_directory + seinfeld_season_5_episodes[1], 'r') as file:\n",
    "    raw_text_episode_2 = file.read().replace('\\n', ' ')\n",
    "    #.replace('[','(').replace(']',')')"
   ]
  },
  {
   "cell_type": "code",
   "execution_count": 4,
   "metadata": {},
   "outputs": [
    {
     "data": {
      "text/plain": [
       "\"[Setting: Jerry's apartment] (Jerry and George are waiting for Kramer, so he can help them move George's stuff back into his parent's house) GEORGE: I can't believe this! JERRY: Oh, it won't be for that long. GEORGE: How can I do this?! How can I move back in with those people? Please, tell me! They're insane! You know that. JERRY: Hey, my parents are just as crazy as your parents. GEORGE: How can you compare you parents to my parents?! JERRY: My father has never thrown anything out. Ever! GEORGE: My father wears his sneakers in the pool! Sneakers! JERRY: My mother has never set foot in a natural body of water. GEORGE: (Showing Jerry up) Listen carefully. My mother has never laughed. Ever. Not a giggle, not a chuckle, not a tee-hee.. never went 'Ha!' JERRY: A smirk? GEORGE: Maybe!.. And I'm moving back in there! JERRY: I told you I'd lend you the money for the rent. GEORGE: No, no, no, no. Borrowing money from a friend is like having sex. It just completely changes the relationship. (Kramer stumbles in) KRAMER: Alright. I'm ready. (To\""
      ]
     },
     "execution_count": 4,
     "metadata": {},
     "output_type": "execute_result"
    }
   ],
   "source": [
    "raw_text_episode_2[:1050]"
   ]
  },
  {
   "cell_type": "markdown",
   "metadata": {},
   "source": [
    "## Cleaning The Text Data\n",
    "\n",
    "#Step 1: Manual"
   ]
  },
  {
   "cell_type": "code",
   "execution_count": 5,
   "metadata": {},
   "outputs": [],
   "source": [
    "def clean_text(raw_text):\n",
    "    raw_text_quotes = re.sub(\"[\\(\\[].*?[\\)\\]]\", \"\", raw_text)\n",
    "    cleaned_text = []\n",
    "    for word in raw_text_quotes.split(\" \"):\n",
    "        if not \":\" in word:\n",
    "            for symbol in \".,?!'\":\n",
    "                word = word.replace(symbol, '').lower()\n",
    "            #Checks for blank elements\n",
    "            if word:\n",
    "                cleaned_text.append(word)\n",
    "\n",
    "    return cleaned_text"
   ]
  },
  {
   "cell_type": "code",
   "execution_count": 6,
   "metadata": {},
   "outputs": [
    {
     "data": {
      "text/plain": [
       "'i cant believe this oh it wont be for that long how can i do this how can i move back in with those people please tell me theyre insane you know that hey my parents are just as crazy as your parents how can you compare you parents to my parents my father has never thrown anything out ever my father wears his sneakers in the pool sneakers my mother has never set foot in a natural body of water listen carefully my mother has never laughed ever not a giggle not a chuckle not a tee-hee never went ha a smirk maybe and im moving back in there i told you id lend you the money for the rent no no no no borrowing money from a friend is like having sex it just completely changes the relationship alright im ready you know i still dont understand - why do you want to move back in with your parents i dont want to im outta money i got 714 dollars left in the bank well move in here whats that why doesnt he just move in here yeah yeah im gonna move in with him he doesnt even'"
      ]
     },
     "execution_count": 6,
     "metadata": {},
     "output_type": "execute_result"
    }
   ],
   "source": [
    "clean_text_episode_2 = clean_text(raw_text_episode_2)\n",
    "' '.join(clean_text_episode_2[:200])"
   ]
  },
  {
   "cell_type": "markdown",
   "metadata": {},
   "source": [
    "## Tokenize The Sentence"
   ]
  },
  {
   "cell_type": "code",
   "execution_count": 7,
   "metadata": {},
   "outputs": [],
   "source": [
    "#Uses the NLP tokenize method to tokenize the script\n",
    "\n",
    "def tokenize(cleaned_text):\n",
    "    joined_sentence = ' '.join(cleaned_text)\n",
    "    tokenized_sentence = word_tokenize(joined_sentence)\n",
    "    \n",
    "    return tokenized_sentence"
   ]
  },
  {
   "cell_type": "code",
   "execution_count": 8,
   "metadata": {},
   "outputs": [
    {
     "data": {
      "text/plain": [
       "'i cant believe this oh it wont be for that long how can i do this how can i move back in with those people please tell me theyre insane you know that hey my parents are just as crazy as your parents how can you compare you parents to my parents my father has never thrown anything out ever my father wears his sneakers in the pool sneakers my mother has never set foot in a natural body of water listen carefully my mother has never laughed ever not a giggle not a chuckle not a tee-hee never went ha a smirk maybe and im moving back in there i told you id lend you the money for the rent no no no no borrowing money from a friend is like having sex it just completely changes the relationship alright im ready you know i still dont understand - why do you want to move back in with your parents i dont want to im outta money i got 714 dollars left in the bank well move in here whats that why doesnt he just move in here yeah yeah im gon na move in with him he doesnt'"
      ]
     },
     "execution_count": 8,
     "metadata": {},
     "output_type": "execute_result"
    }
   ],
   "source": [
    "tokenized_text_episode_2 = tokenize(clean_text_episode_2)\n",
    "' '.join(tokenized_text_episode_2[:200])"
   ]
  },
  {
   "cell_type": "markdown",
   "metadata": {},
   "source": [
    "# Vectorization\n",
    "\n",
    "## Method 1: Count Vectorization"
   ]
  },
  {
   "cell_type": "code",
   "execution_count": 9,
   "metadata": {
    "scrolled": true
   },
   "outputs": [
    {
     "name": "stdout",
     "output_type": "stream",
     "text": [
      "{'its': 11, 'gon': 9, 'provides': 1, 'until': 1, 'tell': 5, 'eats': 1, 'mention': 1, 'whats': 2, 'ok': 1, 'back': 5, 'sneakers': 2, 'modeling': 2, 'would': 4, 'guess': 2, 'still': 1, 'shes': 6, 'sex': 1, 'ask': 1, 'needy': 1, 'jerrys': 1, 'toy': 1, 'only': 2, 'trend': 1, 'jerry': 8, 'seen': 5, 'goodwill': 2, 'from': 3, 'over': 2, 'traveled': 1, 'will': 3, 'here': 6, 'show': 5, 'homeless': 2, 'ray': 3, 'extraordinary': 1, 'soft': 2, 'first': 1, 'side': 1, 'devil-may-care': 1, 'delicate': 1, 'youre': 14, 'uhh': 1, 'puffy': 11, 'jersey': 1, 'kind': 2, 'knuckles': 1, 'whatdya': 1, 'labor': 1, 'find': 1, 'monte': 1, 'painted': 1, 'creamy': 1, 'spend': 1, 'business': 1, 'seinfeld': 1, 'give': 2, 'match': 1, 'feel': 1, 'speaks': 1, 'door': 2, 'spilled': 1, 'feed': 1, 'eat': 2, 'suitcases': 1, 'am': 3, 'ayye': 1, 'handing': 1, 'sure': 1, 'producing': 1, 'where': 4, 'smooth': 1, 'session': 1, 'but': 10, 'dressed': 1, 'are': 19, 'lowtalker': 1, 'lets': 3, 'compare': 1, 'for': 10, 'aye': 1, 'has': 5, 'towards': 1, 'worry': 1, 'young': 1, 'made': 1, 'someone': 1, 'friend': 1, 'leslie': 2, 'other': 1, 'crazy': 4, 'hello': 2, 'mitts': 1, 'terrific': 1, 'talking': 5, 'when': 10, 'world': 2, 'phobia': 1, 'tuesday': 1, 'natural': 1, 'hadnt': 1, 'believe': 4, 'into': 2, '``': 2, 'shirt': 12, 'point': 1, 'changes': 1, 'comfortable': 1, 'comparing': 1, 'right': 5, 'later': 2, 'told': 1, 'true': 2, 'excuse': 2, 'dont': 19, 'wears': 1, 'go': 4, 'eventually': 1, 'word': 2, 'be': 17, 'collection': 2, 'we': 4, 'ugh': 1, 'lend': 1, 'completely': 1, 'manipulate': 1, 'one-in-a-million': 1, 'mother': 3, 'how': 9, 'thing': 1, 'take': 7, 'hope': 2, 'won': 1, 'ohh': 1, 'want': 11, 'a-a-a-a-a': 1, 'department': 1, 'tv': 4, 'more': 6, 'comes': 1, 'laughed': 1, 'keep': 1, 'touched': 1, 'tragic': 1, 'big': 1, 'speaking': 1, 'to': 58, 'doing': 1, 'clothing': 3, 'touch': 1, 'ready': 1, 'ha': 1, 'wanted': 1, 'good': 2, 'moving': 1, 'masculine': 1, 'cub': 1, 'stop': 2, 'had': 5, 'hears': 1, 'joke': 1, 'condition': 1, 'nodding': 1, 'locked': 1, 'people': 6, 'minimum': 1, 'idea': 1, 'father': 3, 'pirates': 2, 'nothing': 2, 'waiter': 1, 'some': 5, 'george': 6, 'comedian': 1, '90s': 1, 'body': 1, 'since': 2, 'dollars': 1, 'costanza': 2, 'exquisite': 2, 'having': 1, 'should': 1, 'if': 2, 'were': 4, 'facing': 1, 'self-control': 1, 'job': 2, 'at': 10, 'listen': 1, 'story': 1, 'mind': 1, 'they': 4, 'already': 1, 'parents': 6, 'off': 1, 'did': 3, 'mentioned': 2, 'head': 1, 'with': 15, 'them': 11, 'speak': 1, 'hear': 4, 'sees': 1, 'swamis': 1, 'he': 14, 'him': 5, 'like': 10, 'stuff': 2, 'beauty': 1, 'do': 14, 'get': 6, 'rent': 1, 'um': 1, 'bag': 1, 'her': 2, 'borrowing': 1, 'orders': 2, 'said': 8, 'me': 22, 'of': 18, 'cristo': 1, 'didnt': 3, 'ironed': 1, 'wearing': 6, 'service': 5, 'successor': 1, 'unusual': 1, 'air': 1, 'frozen': 1, 'pie': 1, 'ive': 3, 'about': 13, 'strained': 1, 'na': 9, 'close': 1, 'on': 16, 'quite': 1, 'doesnt': 3, 'restaurant': 1, 'cure': 1, 'looking': 1, 'got': 13, 'put': 1, 'thanks': 2, 'office': 1, 'because': 2, '-': 21, 'chandelier': 1, 'anything': 5, 'water': 1, 'worth': 1, 'didya': 1, 'compassionate': 1, 'talent': 1, 'never': 8, 'pizza': 1, 'up': 7, 'unable': 1, 'hair': 1, 'shape': 1, 'elaine': 2, 'money': 4, 'all': 13, 'college': 1, 'making': 1, 'stocking': 1, 'boutiques': 1, 'fantastic': 1, 'uh-huh': 2, 'poor': 2, 'yet': 2, 'fact': 1, 'performers': 1, 'pair': 1, 'any': 4, 'or': 1, 'need': 1, 'indigent': 2, 'i': 90, 'youd': 1, 'morning': 2, 'night': 1, 'new': 6, 'out': 9, 'most': 1, 'lot': 2, 'months': 1, 'look': 14, 'wear': 13, 'life': 1, 'yes': 10, 'oh': 14, 'done': 2, 'meet': 1, 'another': 1, 'use': 2, 'dinner': 3, 'nobody': 1, 'set': 3, 'really': 4, 'herbalists': 1, 'card': 1, 'mailman': 1, 'none': 1, 'love': 1, 'myself': 1, 'audience': 1, 'mmm': 1, 'nut': 1, 'long': 1, 'and': 21, 'become': 1, 'than': 2, 'nah': 1, 'promoting': 2, 'kidding': 1, 'those': 4, 'can': 6, 'end': 1, 'georgie': 3, 'fashions': 1, 'theres': 2, 'coulda': 1, 'taking': 1, 'bank': 1, 'ta': 4, 'no': 16, 'jobs': 1, 'scouts': 1, 'whos': 1, 'deformed': 1, 'cant': 7, 'mrs': 2, 'saying': 2, 'muscles': 1, 'five': 2, 'youve': 2, 'come': 5, 'bring': 2, 'manual': 1, 'used': 3, 'your': 11, 'yeah': 25, 'emory': 1, 'great': 2, 'everybodys': 1, 'bologna': 4, 'kinda': 2, 'been': 1, 'plenty': 1, 'work': 4, 'friday': 1, 'wont': 1, 'agree': 1, 'woman': 6, 'knew': 3, 'puffed': 2, 'conversation': 1, 'sandwich': 1, 'constant': 1, 'count': 1, 'designer': 1, 'chuckle': 1, 'thrown': 1, 'gumbel': 1, 'hi': 1, 'today': 5, 'my': 18, 'television': 1, 'left': 2, 'benefit': 4, '714': 1, 'frank': 1, 'home': 1, 'help': 2, 'wha': 1, '18': 1, 'who': 2, 'board': 1, 'seeking': 1, 'else': 1, 'she': 6, 'an': 2, 'captain': 1, 'graduate': 1, 'helped': 1, 'place': 1, 'mckigney': 1, 'test': 4, 'id': 3, 'make': 1, 'hell': 1, 'stores': 2, 'photo': 1, 'factory': 1, 'worried': 1, 'eh': 1, 'try': 1, 'cares': 1, 'heres': 1, 'york': 1, 'as': 3, 'became': 3, 'always': 4, 'damaged': 1, 'every': 1, 'very': 4, 'god': 2, 'oven': 1, 'asking': 1, 'sandwiches': 3, 'before': 2, 'mean': 3, 'based': 2, 'happening': 1, 'hands': 18, 'whyd': 1, 'there': 6, 'let': 6, 'industries': 1, 'please': 4, 'uh': 7, 'stress': 1, 'terribly': 1, 'sorry': 4, 'perfect': 1, 'epidermis': 1, 'what': 32, 'neither': 1, 'tee-hee': 1, 'understand': 3, 'afraid': 1, 'toilet': 1, 'remember': 1, 'dependent': 1, 'much': 2, 'yep': 6, 'contest': 1, 'something': 1, 'tonight': 1, 'these': 6, 'is': 17, 'call': 1, 'pay': 1, 'jell-o': 2, 'swing': 1, 'utensils': 1, 'getting': 2, 'damaging': 1, 'noticed': 1, 'might': 2, 'well': 13, 'hmm': 1, 'down': 1, 'person': 1, 'could': 2, 'mckigneys': 1, 'agreed': 3, 'us': 1, 'overuse': 1, 'his': 10, 'carefully': 1, 'move': 7, 'thinking': 1, 'happened': 2, 'smirk': 1, 'bananas': 3, 'bickering': 1, 'insane': 1, \"''\": 2, 'bet': 1, 'silver': 3, 'pass': 1, 'important': 1, 'fine': 1, 'outta': 1, 'security': 1, 'bryant': 2, 'funny': 1, 'hey': 6, 'check': 1, 'thank': 4, 'milky': 4, 'civil': 4, 'ya': 2, 'two': 3, 'hes': 2, 'pirate': 4, 'im': 13, 'theyre': 8, 'whyre': 1, 'health': 1, 'see': 3, 'it': 36, 'car': 1, 'low-talkers': 1, 'position': 1, 'alright': 5, 'glad': 1, 'remind': 1, 'proportion': 1, 'asked': 2, 'have': 11, 'pool': 1, 'minutes': 2, 'makin': 1, 'think': 4, 'wha-': 1, 'going': 10, 'giddy-up': 1, 'nice': 1, 'organization': 1, 'domain': 1, 'interested': 1, 'thats': 8, 'know': 19, 'saw': 1, 'giggle': 1, 'was': 14, 'supposed': 1, 'girlfriend': 1, 'that': 28, 'beautiful': 1, 'just': 10, 'offer': 1, '19th': 1, 'clothe': 2, 'white': 4, 'little': 2, 'room': 1, 'may': 1, 'mens': 1, 'claw': 1, 'whole': 2, 'not': 11, 'ever': 7, 'why': 8, 'scissor': 1, 'hand': 10, 'ridiculous': 2, 'maybe': 3, 'truth': 1, 'course': 1, 'better': 2, 'building': 2, 'couldve': 1, 'men': 1, 'wants': 1, 'national': 1, 'avoiding': 1, 'one': 8, 'so': 11, 'post': 1, 'bop': 1, 'guys-': 1, 'sitting': 1, 'acupuncturists': 1, 'ill': 5, 'foot': 1, 'in': 29, 'this': 25, 'time': 2, 'looks': 2, 'own': 3, 'a': 54, 'anymore': 1, 'the': 70, 'careful': 3, 'okay': 3, 'week': 1, 'relationship': 1, 'volunteer': 1, 'cool': 1, 'talk': 3, 'bathroom': 2, 'couldnt': 5, 'now': 7, 'likes': 1, 'even': 2, 'model': 2, 'master': 1, 'dollar': 3, 'kramer': 6, 'easy': 1, 'went': 4, 'tip-top': 1, 'you': 87}\n"
     ]
    }
   ],
   "source": [
    "def count_vectorize(episode, vocab=None):\n",
    "    if vocab:\n",
    "        unique_words = vocab\n",
    "    else:\n",
    "        unique_words = list(set(episode))\n",
    "    \n",
    "    episode_dict = {i:0 for i in unique_words}\n",
    "    \n",
    "    for word in episode:\n",
    "        episode_dict[word] += 1\n",
    "    \n",
    "    return episode_dict\n",
    "\n",
    "vectorized_episode_2 = count_vectorize(tokenized_text_episode_2)\n",
    "print(vectorized_episode_2)"
   ]
  },
  {
   "cell_type": "markdown",
   "metadata": {},
   "source": [
    "## Method 2: Vectorization with TF-IDF"
   ]
  },
  {
   "cell_type": "code",
   "execution_count": 13,
   "metadata": {},
   "outputs": [],
   "source": [
    "#Takes in a dictionary representing a document where the keys are unique words\n",
    "#and the values are the count of those words\n",
    "\n",
    "#Returns the term frequency as the value for those words\n",
    "#(number of times word appears in a document)/(total number of words in a document)\n",
    "#NOTE: The denominator is not total word count of the document it is total unique words\n",
    "\n",
    "def term_frequency(BoW_dict):\n",
    "    total_word_count = sum(BoW_dict.values())\n",
    "    \n",
    "    for ind, val in BoW_dict.items():\n",
    "        BoW_dict[ind] = val/ total_word_count\n",
    "    \n",
    "    return BoW_dict\n",
    "\n",
    "episode_2_term_frequency = term_frequency(vectorized_episode_2)"
   ]
  },
  {
   "cell_type": "code",
   "execution_count": 14,
   "metadata": {},
   "outputs": [
    {
     "name": "stdout",
     "output_type": "stream",
     "text": [
      "i  : 0.040705563093622915  \n",
      "you  : 0.039348710990502155  \n",
      "the  : 0.031659882406151155  \n",
      "to  : 0.0262324739936681  \n",
      "a  : 0.02442333785617375  \n",
      "it  : 0.016282225237449162  \n",
      "what  : 0.014473089099954815  \n",
      "in  : 0.01311623699683405  \n",
      "that  : 0.012663952962460461  \n",
      "yeah  : 0.011307100859339697  \n"
     ]
    }
   ],
   "source": [
    "from collections import Counter\n",
    "\n",
    "for i in Counter(episode_2_term_frequency).most_common(10): \n",
    "    print(i[0],\" :\",i[1],\" \") "
   ]
  },
  {
   "cell_type": "code",
   "execution_count": 15,
   "metadata": {},
   "outputs": [],
   "source": [
    "#Takes in a list of dictionaries where the elements are dictionaries representing each\n",
    "#document and where the keys are unique words and the values are the count of those words\n",
    "\n",
    "#Returns the Inverse Document frequency for each term in the Corpus:\n",
    "#IDF(term) = log_e(Total Number of Documents in the Corpus/\n",
    "#                  Number of Documents with 'Term' in It)\n",
    "#Note: This function returns a dictionary where each key is a Corpus' unique term\n",
    "#and the corresponding value is the IDF of that term\n",
    "\n",
    "\n",
    "def inverse_document_frequency(list_of_dicts):\n",
    "    \n",
    "    # Creates a set of all unique words in the corpus\n",
    "    vocab_set = set()\n",
    "    # Iterate through list of dfs and add index to vocab_set\n",
    "    for d in list_of_dicts:\n",
    "        for word in d.keys():\n",
    "            vocab_set.add(word)\n",
    "    \n",
    "    # Once vocab set is complete, create an empty dictionary with a key for each word and value of 0.\n",
    "    full_vocab_dict = {i:0 for i in vocab_set}\n",
    "    \n",
    "    # Loop through each word in full_vocab_dict\n",
    "    for word, val in full_vocab_dict.items():\n",
    "        docs = 0\n",
    "        \n",
    "        # Loop through list of dicts.  Each time a dictionary contains the word, increment docs by 1\n",
    "        for d in list_of_dicts:\n",
    "            if word in d:\n",
    "                docs += 1\n",
    "        \n",
    "        # Now that we know denominator for equation, compute and set IDF value for word\n",
    "        \n",
    "        full_vocab_dict[word] = np.log((len(list_of_dicts)/ float(docs)))\n",
    "    \n",
    "    return full_vocab_dict"
   ]
  },
  {
   "cell_type": "code",
   "execution_count": null,
   "metadata": {},
   "outputs": [],
   "source": [
    "#Takes in a list of dictionaries where the elements are dictionaries representing each\n",
    "#document and where the keys are unique words and the values are the count of those words\n",
    "\n",
    "#Retuns a list of dictionaries where the elements are dictionaries representing each\n",
    "#document and where each dictionary's values represent a term's TF-IDF values for\n",
    "#that document\n",
    "\n",
    "def tf_idf(list_of_dicts):\n",
    "    # Create empty dictionary containing full vocabulary of entire corpus\n",
    "    doc_tf_idf = {}\n",
    "    idf = inverse_document_frequency(list_of_dicts)\n",
    "    full_vocab_list = {i:0 for i in list(idf.keys())}\n",
    "    \n",
    "    # Create tf-idf list of dictionaries, containing a dictionary that will be updated for each document\n",
    "    tf_idf_list_of_dicts = []\n",
    "    \n",
    "    # Now, compute tf and then use this to compute and set tf-idf values for each document\n",
    "    for doc in list_of_dicts:\n",
    "        \n",
    "        doc_tf = term_frequency(doc)\n",
    "        #(number of times word appears in a document)/(total number of words in a document)\n",
    "\n",
    "        for word in doc_tf:\n",
    "            doc_tf_idf[word] = doc_tf[word] * idf[word]\n",
    "        tf_idf_list_of_dicts.append(doc_tf_idf)\n",
    "    \n",
    "    return tf_idf_list_of_dicts"
   ]
  }
 ],
 "metadata": {
  "kernelspec": {
   "display_name": "Python 3",
   "language": "python",
   "name": "python3"
  },
  "language_info": {
   "codemirror_mode": {
    "name": "ipython",
    "version": 3
   },
   "file_extension": ".py",
   "mimetype": "text/x-python",
   "name": "python",
   "nbconvert_exporter": "python",
   "pygments_lexer": "ipython3",
   "version": "3.7.2"
  }
 },
 "nbformat": 4,
 "nbformat_minor": 2
}
