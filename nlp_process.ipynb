{
 "cells": [
  {
   "cell_type": "markdown",
   "metadata": {},
   "source": [
    "# Natural Language Processing (NLP) Process\n",
    "\n",
    "This notebook will outline the process of NLP techniques for analysis on text data."
   ]
  },
  {
   "cell_type": "code",
   "execution_count": 1,
   "metadata": {},
   "outputs": [],
   "source": [
    "#Import the relevand section of the NLP library\n",
    "from nltk import sent_tokenize"
   ]
  },
  {
   "cell_type": "code",
   "execution_count": 3,
   "metadata": {},
   "outputs": [],
   "source": [
    "# I will be using the press release of the iPad Air from Apple\n",
    "# https://www.apple.com/newsroom/2019/03/all-new-ipad-air-and-ipad-mini-deliver-dramatic-power-and-capability/\n",
    "\n",
    "title = \"All-new iPad Air and iPad mini deliver dramatic power and capability\"\n",
    "first_sentence = \"Apple today introduced the all-new iPad Air in an ultra-thin 10.5-inch design, offering the latest innovations including Apple Pencil support and high-end performance at a breakthrough price.\"\n",
    "second_sentence = \"With the A12 Bionic chip with Apple’s Neural Engine, the new iPad Air delivers a 70 percent boost in performance and twice the graphics capability, and the advanced Retina display with True Tone technology is nearly 20 percent larger with over half a million more pixels.\"\n",
    "third_sentence = \"Apple today also introduced the new 7.9-inch iPad mini, a major upgrade for iPad mini fans who love a compact, ultra-portable design packed with the latest technology.\"\n",
    "fourth_sentence = \"With the A12 Bionic chip, the new iPad mini is a powerful multi-tasking machine, delivering three times the performance and nine times faster graphics.\"\n",
    "fifth_sentence = \"The advanced Retina display with True Tone technology and wide color support is 25 percent brighter and has the highest pixel density of any iPad, delivering an immersive visual experience in any setting.\"\n",
    "sixth_sentence = \"And with Apple Pencil support, the new iPad mini is the perfect take-anywhere notepad for sketching and jotting down thoughts on the go.\"\n",
    "seventh_sentence = \"The new iPads are available to order starting today and in stores next week.\""
   ]
  },
  {
   "cell_type": "code",
   "execution_count": null,
   "metadata": {},
   "outputs": [],
   "source": []
  }
 ],
 "metadata": {
  "kernelspec": {
   "display_name": "Python 3",
   "language": "python",
   "name": "python3"
  },
  "language_info": {
   "codemirror_mode": {
    "name": "ipython",
    "version": 3
   },
   "file_extension": ".py",
   "mimetype": "text/x-python",
   "name": "python",
   "nbconvert_exporter": "python",
   "pygments_lexer": "ipython3",
   "version": "3.7.2"
  }
 },
 "nbformat": 4,
 "nbformat_minor": 2
}
