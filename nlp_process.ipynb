{
 "cells": [
  {
   "cell_type": "markdown",
   "metadata": {},
   "source": [
    "# Natural Language Processing (NLP) Process\n",
    "\n",
    "This notebook will outline the process of NLP techniques for analysis on text data."
   ]
  },
  {
   "cell_type": "code",
   "execution_count": 7,
   "metadata": {},
   "outputs": [
    {
     "name": "stderr",
     "output_type": "stream",
     "text": [
      "[nltk_data] Downloading package punkt to /Users/Alex/nltk_data...\n",
      "[nltk_data]   Unzipping tokenizers/punkt.zip.\n"
     ]
    }
   ],
   "source": [
    "#Import the relevand section of the NLP library\n",
    "from nltk import word_tokenize\n",
    "from nltk import sent_tokenize\n",
    "import nltk\n",
    "nltk.download('punkt')\n",
    "\n",
    "from mpl_toolkits.mplot3d import Axes3D\n",
    "from sklearn.manifold import TSNE\n",
    "\n",
    "import pandas as pd\n",
    "import numpy as np\n",
    "import matplotlib.pyplot as plt\n",
    "%matplotlib inline"
   ]
  },
  {
   "cell_type": "code",
   "execution_count": 8,
   "metadata": {},
   "outputs": [],
   "source": [
    "# I will be using the press release of the iPad Air from Apple\n",
    "# https://www.apple.com/newsroom/2019/03/all-new-ipad-air-and-ipad-mini-deliver-dramatic-power-and-capability/\n",
    "\n",
    "title = \"All-new iPad Air and iPad mini deliver dramatic power and capability\"\n",
    "first_sentence = \"Apple today introduced the all-new iPad Air in an ultra-thin 10.5-inch design, offering the latest innovations including Apple Pencil support and high-end performance at a breakthrough price.\"\n",
    "second_sentence = \"With the A12 Bionic chip with Apple’s Neural Engine, the new iPad Air delivers a 70 percent boost in performance and twice the graphics capability, and the advanced Retina display with True Tone technology is nearly 20 percent larger with over half a million more pixels.\"\n",
    "third_sentence = \"Apple today also introduced the new 7.9-inch iPad mini, a major upgrade for iPad mini fans who love a compact, ultra-portable design packed with the latest technology.\"\n",
    "fourth_sentence = \"With the A12 Bionic chip, the new iPad mini is a powerful multi-tasking machine, delivering three times the performance and nine times faster graphics.\"\n",
    "fifth_sentence = \"The advanced Retina display with True Tone technology and wide color support is 25 percent brighter and has the highest pixel density of any iPad, delivering an immersive visual experience in any setting.\"\n",
    "sixth_sentence = \"And with Apple Pencil support, the new iPad mini is the perfect take-anywhere notepad for sketching and jotting down thoughts on the go.\"\n",
    "seventh_sentence = \"The new iPads are available to order starting today and in stores next week.\""
   ]
  },
  {
   "cell_type": "markdown",
   "metadata": {},
   "source": [
    "## Cleaning The Text Data"
   ]
  },
  {
   "cell_type": "code",
   "execution_count": 27,
   "metadata": {},
   "outputs": [],
   "source": [
    "def clean_sentence(sentence):\n",
    "    cleaned_sentence = []\n",
    "    for word in sentence.split(\" \"):\n",
    "        if not '[' in word and  not ']' in word:\n",
    "            for symbol in \",.?!'\":\n",
    "                word = word.replace(symbol, '').lower()\n",
    "            cleaned_sentence.append(word)\n",
    "\n",
    "    return cleaned_sentence"
   ]
  },
  {
   "cell_type": "code",
   "execution_count": 28,
   "metadata": {},
   "outputs": [],
   "source": [
    "claned_first_sentence = clean_sentence(first_sentence)"
   ]
  },
  {
   "cell_type": "markdown",
   "metadata": {},
   "source": [
    "## Tokenize The Sentence"
   ]
  },
  {
   "cell_type": "code",
   "execution_count": 29,
   "metadata": {},
   "outputs": [],
   "source": [
    "def tokenize(sentence):\n",
    "    joined_sentence = ' '.join(sentence)\n",
    "    tokenized_sentence = word_tokenize(joined_sentence)\n",
    "    \n",
    "    return tokenized_sentence\n"
   ]
  },
  {
   "cell_type": "code",
   "execution_count": 30,
   "metadata": {},
   "outputs": [
    {
     "data": {
      "text/plain": [
       "['apple',\n",
       " 'today',\n",
       " 'introduced',\n",
       " 'the',\n",
       " 'all-new',\n",
       " 'ipad',\n",
       " 'air',\n",
       " 'in',\n",
       " 'an',\n",
       " 'ultra-thin',\n",
       " '105-inch',\n",
       " 'design',\n",
       " 'offering',\n",
       " 'the',\n",
       " 'latest',\n",
       " 'innovations',\n",
       " 'including',\n",
       " 'apple',\n",
       " 'pencil',\n",
       " 'support',\n",
       " 'and',\n",
       " 'high-end',\n",
       " 'performance',\n",
       " 'at',\n",
       " 'a',\n",
       " 'breakthrough',\n",
       " 'price']"
      ]
     },
     "execution_count": 30,
     "metadata": {},
     "output_type": "execute_result"
    }
   ],
   "source": [
    "tokenize(claned_first_sentence)"
   ]
  },
  {
   "cell_type": "code",
   "execution_count": null,
   "metadata": {},
   "outputs": [],
   "source": []
  }
 ],
 "metadata": {
  "kernelspec": {
   "display_name": "Python 3",
   "language": "python",
   "name": "python3"
  },
  "language_info": {
   "codemirror_mode": {
    "name": "ipython",
    "version": 3
   },
   "file_extension": ".py",
   "mimetype": "text/x-python",
   "name": "python",
   "nbconvert_exporter": "python",
   "pygments_lexer": "ipython3",
   "version": "3.7.2"
  }
 },
 "nbformat": 4,
 "nbformat_minor": 2
}
