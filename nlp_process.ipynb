{
 "cells": [
  {
   "cell_type": "markdown",
   "metadata": {},
   "source": [
    "# Natural Language Processing (NLP) Process\n",
    "\n",
    "This notebook will outline the process of NLP techniques for analysis on text data."
   ]
  },
  {
   "cell_type": "code",
   "execution_count": 7,
   "metadata": {},
   "outputs": [
    {
     "name": "stderr",
     "output_type": "stream",
     "text": [
      "[nltk_data] Downloading package punkt to /Users/Alex/nltk_data...\n",
      "[nltk_data]   Unzipping tokenizers/punkt.zip.\n"
     ]
    }
   ],
   "source": [
    "#Import the relevand section of the NLP library\n",
    "from nltk import word_tokenize\n",
    "from nltk import sent_tokenize\n",
    "import nltk\n",
    "nltk.download('punkt')\n",
    "\n",
    "from mpl_toolkits.mplot3d import Axes3D\n",
    "from sklearn.manifold import TSNE\n",
    "\n",
    "import pandas as pd\n",
    "import numpy as np\n",
    "import matplotlib.pyplot as plt\n",
    "%matplotlib inline"
   ]
  },
  {
   "cell_type": "code",
   "execution_count": 8,
   "metadata": {},
   "outputs": [],
   "source": [
    "# I will be using the press release of the iPad Air from Apple\n",
    "# https://www.apple.com/newsroom/2019/03/all-new-ipad-air-and-ipad-mini-deliver-dramatic-power-and-capability/\n",
    "\n",
    "title = \"All-new iPad Air and iPad mini deliver dramatic power and capability\"\n",
    "first_sentence = \"Apple today introduced the all-new iPad Air in an ultra-thin 10.5-inch design, offering the latest innovations including Apple Pencil support and high-end performance at a breakthrough price.\"\n",
    "second_sentence = \"With the A12 Bionic chip with Apple’s Neural Engine, the new iPad Air delivers a 70 percent boost in performance and twice the graphics capability, and the advanced Retina display with True Tone technology is nearly 20 percent larger with over half a million more pixels.\"\n",
    "third_sentence = \"Apple today also introduced the new 7.9-inch iPad mini, a major upgrade for iPad mini fans who love a compact, ultra-portable design packed with the latest technology.\"\n",
    "fourth_sentence = \"With the A12 Bionic chip, the new iPad mini is a powerful multi-tasking machine, delivering three times the performance and nine times faster graphics.\"\n",
    "fifth_sentence = \"The advanced Retina display with True Tone technology and wide color support is 25 percent brighter and has the highest pixel density of any iPad, delivering an immersive visual experience in any setting.\"\n",
    "sixth_sentence = \"And with Apple Pencil support, the new iPad mini is the perfect take-anywhere notepad for sketching and jotting down thoughts on the go.\"\n",
    "seventh_sentence = \"The new iPads are available to order starting today and in stores next week.\""
   ]
  },
  {
   "cell_type": "markdown",
   "metadata": {},
   "source": [
    "## Cleaning The Text Data"
   ]
  },
  {
   "cell_type": "code",
   "execution_count": 37,
   "metadata": {},
   "outputs": [],
   "source": [
    "def clean_sentence(sentence):\n",
    "    cleaned_sentence = []\n",
    "    for word in sentence.split(\" \"):\n",
    "        if not '[' in word and  not ']' in word:\n",
    "            for symbol in \",?!'\":\n",
    "                word = word.replace(symbol, '').lower()\n",
    "            cleaned_sentence.append(word)\n",
    "\n",
    "    return cleaned_sentence"
   ]
  },
  {
   "cell_type": "code",
   "execution_count": 38,
   "metadata": {},
   "outputs": [],
   "source": [
    "claned_first_sentence = clean_sentence(first_sentence)"
   ]
  },
  {
   "cell_type": "markdown",
   "metadata": {},
   "source": [
    "## Tokenize The Sentence"
   ]
  },
  {
   "cell_type": "code",
   "execution_count": 39,
   "metadata": {},
   "outputs": [],
   "source": [
    "def tokenize(sentence):\n",
    "    joined_sentence = ' '.join(sentence)\n",
    "    tokenized_sentence = word_tokenize(joined_sentence)\n",
    "    \n",
    "    return tokenized_sentence\n"
   ]
  },
  {
   "cell_type": "code",
   "execution_count": 40,
   "metadata": {},
   "outputs": [
    {
     "data": {
      "text/plain": [
       "['apple',\n",
       " 'today',\n",
       " 'introduced',\n",
       " 'the',\n",
       " 'all-new',\n",
       " 'ipad',\n",
       " 'air',\n",
       " 'in',\n",
       " 'an',\n",
       " 'ultra-thin',\n",
       " '10.5-inch',\n",
       " 'design',\n",
       " 'offering',\n",
       " 'the',\n",
       " 'latest',\n",
       " 'innovations',\n",
       " 'including',\n",
       " 'apple',\n",
       " 'pencil',\n",
       " 'support',\n",
       " 'and',\n",
       " 'high-end',\n",
       " 'performance',\n",
       " 'at',\n",
       " 'a',\n",
       " 'breakthrough',\n",
       " 'price',\n",
       " '.']"
      ]
     },
     "execution_count": 40,
     "metadata": {},
     "output_type": "execute_result"
    }
   ],
   "source": [
    "tokenize(claned_first_sentence)"
   ]
  },
  {
   "cell_type": "code",
   "execution_count": 1,
   "metadata": {},
   "outputs": [],
   "source": [
    "import pandas as pd\n",
    "import numpy as np\n",
    "from mpl_toolkits.mplot3d import Axes3D\n",
    "import matplotlib.pyplot as plt\n",
    "%matplotlib inline\n",
    "from sklearn.manifold import TSNE\n",
    "from nltk.tokenize import word_tokenize\n",
    "np.random.seed(0)"
   ]
  },
  {
   "cell_type": "code",
   "execution_count": 7,
   "metadata": {},
   "outputs": [
    {
     "name": "stdout",
     "output_type": "stream",
     "text": [
      "['{\\\\rtf1\\\\ansi\\\\ansicpg1252\\\\cocoartf1671\\\\cocoasubrtf600\\n', '{\\\\fonttbl\\\\f0\\\\fnil\\\\fcharset0 Verdana;}\\n', '{\\\\colortbl;\\\\red255\\\\green255\\\\blue255;\\\\red0\\\\green0\\\\blue0;\\\\red255\\\\green255\\\\blue255;}\\n', '{\\\\*\\\\expandedcolortbl;;\\\\cssrgb\\\\c0\\\\c0\\\\c0;\\\\cssrgb\\\\c100000\\\\c100000\\\\c100000;}\\n', '\\\\margl1440\\\\margr1440\\\\vieww21000\\\\viewh14000\\\\viewkind0\\n', '\\\\deftab720\\n', '\\\\pard\\\\pardeftab720\\\\sl300\\\\sa240\\\\partightenfactor0\\n', '\\n', '\\\\f0\\\\fs24 \\\\cf2 \\\\cb3 \\\\expnd0\\\\expndtw0\\\\kerning0\\n', '[location: nightclub]\\\\\\n', \"JERRY: A female orgasm is kinda like the bat cave. A very few people know where it is and if you're lucky enough to see it you probably don't know how you got there and you can't find you way back after you left.\\\\\\n\", \"You know there are two types of female orgasm: the real and the fake. And I'll tell you right now, as a man, we don't know. We do not know, because to man sex is like a car accident and determining the female orgasm is like being asked 'What did you see after the car went out of control?'. 'I heard a lot of screeching sounds. I remember I was facing the wrong way at one point. And in the end my body was thrown clear.\\\\\\n\", \"[location: Monk's]\\\\\\n\", \"JERRY: So, what's her name?\\\\\\n\", 'GEORGE: Karin.\\\\\\n', 'JERRY: Is she nice?\\\\\\n', 'GEORGE: Great.\\\\\\n', 'JERRY: So you like her?\\\\\\n', 'GEORGE: I think so.\\\\\\n', \"JERRY: You don't know?\\\\\\n\", \"GEORGE: I can't tell anymore.\\\\\\n\", 'JERRY: Well do you feel anything?\\\\\\n', \"GEORGE: Feel? What's that?\\\\\\n\", \"JERRY: All right, let me ask you this: when she comes over, you're cleaning up a lot?\\\\\\n\", 'GEORGE: Yeah.\\\\\\n', \"JERRY: You're just straightening up or you're cleaning?\\\\\\n\", 'GEORGE: Cleaning\\\\\\n', 'JERRY: You do the tub?\\\\\\n', 'GEORGE: Yeah.\\\\\\n', 'JERRY: On your knees, Ajax, scrubbing, the whole deal?\\\\\\n', 'GEORGE: Yeah.\\\\\\n', \"JERRY: Okay, I think you're in love!\\\\\\n\", 'GEORGE: Tub is love?\\\\\\n', \"JERRY: Tub is love. So there you are. You've got a nice girl and a clean apartment.\\\\\\n\", \"GEORGE: Yep. There's one little problem.\\\\\\n\", 'JERRY: Sexual?\\\\\\n', \"GEORGE: Yeeeaaah. Well..... I've never really feld confident in..... one particular aspect.\\\\\\n\", 'JERRY: Below the equator?\\\\\\n', 'GEORGE: Yeah.\\\\\\n', \"JERRY: Nobody does. You know, nobody knows what to do. You just close your eyes and you hope for the best. I really think they're happy if you just make an effort.\\\\\\n\", \"GEORGE: I don't know. Last time I got the tap.\\\\\\n\", 'JERRY: You got the tap?\\\\\\n', \"GEORGE: You know, you're going along, you think everything's all right and all of a sudden you get that tap. (George taps his own shoulder). You know it's like pfffff (whistling sound), all right that's enough, you're through.\\\\\\n\", 'JERRY: The tap is tough.\\\\\\n', \"GEORGE: It's like the manager coming out and asking you for the ball.\\\\\\n\", 'JERRY: Well maybe she just wanted to move on to other business.\\\\\\n', \"GEORGE: No, no, this wasn't moving on. I got the hook. I wish I could get a lesson in that.\\\\\\n\", \"JERRY: It's a very complicated area.\\\\\\n\", 'GEORGE: You can go crazy trying to figure that place out.\\\\\\n', \"JERRY: It's a haaazy mystery.\\\\\\n\", \"GEORGE: Anyway, I think everything else is okay. Unless of course she's faking.\\\\\\n\", '(Elaine joins them)\\\\\\n', \"ELAINE: Who's faking?\\\\\\n\", 'GEORGE: Nothing.\\\\\\n', 'ELAINE: Faking what?\\\\\\n', \"GEORGE: Nobody's faking.\\\\\\n\", 'ELAINE: Ah! Orgasm?\\\\\\n', \"GEORGE: She's not faking!\\\\\\n\", 'ELAINE: How do you know?\\\\\\n', \"GEORGE: I know. I can tell. It's one of my powers. Why, did you ever fake?\\\\\\n\", 'ELAINE: Of course.\\\\\\n', 'JERRY: Really?\\\\\\n', 'GEORGE: You faked?\\\\\\n', 'ELAINE: On occasion.\\\\\\n', 'JERRY: And the guy never knows?\\\\\\n', 'ELAINE: No.\\\\\\n', 'JERRY: How can he not know that?\\\\\\n', 'ELAINE: Because I was gooood.\\\\\\n', \"JERRY: I guess after that many beers he's probably a little groggy anyway.\\\\\\n\", '(Jerry and George laugh)\\\\\\n', \"ELAINE: You didn't know.\\\\\\n\", 'JERRY: What?\\\\\\n', \"ELAINE: You didn't know.\\\\\\n\", 'JERRY: Are you saying...\\\\\\n', '(George calls a waitress)\\\\\\n', \"GEORGE: I think I'll have a piece of cake.\\\\\\n\", 'JERRY: With me?\\\\\\n', 'ELAINE: Well...\\\\\\n', 'JERRY: You faked with me?\\\\\\n', 'ELAINE: Yeah.\\\\\\n', 'JERRY: You faked with me?\\\\\\n', 'ELAINE: Yeah.\\\\\\n', 'JERRY: No.\\\\\\n', 'ELAINE: Yeah.\\\\\\n', 'JERRY: You faked it?\\\\\\n', 'ELAINE: I faked it.\\\\\\n', 'JERRY: That whole thing, the whole production, it was all an act?\\\\\\n', 'ELAINE: Not bad huh?\\\\\\n', 'JERRY: What about the breathing, the panting, the moaning, the screaming?\\\\\\n', 'ELAINE: Fake, fake, fake, fake.\\\\\\n', \"JERRY: I'm stunned, I'm shocked! How many times did you do this?\\\\\\n\", 'ELAINE: Uuuhm, all the time.\\\\\\n', 'JERRY: All the time?!\\\\\\n', 'GEORGE: We got a chocolate malt in here!\\\\\\n', \"JERRY: But I'm so good.\\\\\\n\", \"GEORGE: I'm sure you are.\\\\\\n\", \"ELAINE: Jerry, listen, it wasn't you. I just didn't have 'em back then.\\\\\\n\", 'JERRY: She faked.\\\\\\n', '(George smiles sarcastically)\\\\\\n', \"JERRY: Maybe they've all been faking.\\\\\\n\", \"ELAINE: I'm sure they're not.\\\\\\n\", 'GEORGE: Maybe Karin is faking.\\\\\\n', \"[location: Jerry's apartment]\\\\\\n\", '(Kramer is lighting his cigar on the stove)\\\\\\n', 'KRAMER: She was probably joking.\\\\\\n', 'JERRY: No no, it was no joke.\\\\\\n', \"KRAMER: She didn't have any?\\\\\\n\", 'JERRY: No. None.\\\\\\n', \"KRAMER: She faked 'em all.\\\\\\n\", \"JERRY: Faked 'em all.\\\\\\n\", \"KRAMER: Well so she faked 'em, so what?\\\\\\n\", \"JERRY: The woman had an orgasm under false pretences. That's sexual perjury.\\\\\\n\", 'KRAMER: You know I heard her screaming from my apartment? She woke me up a few times.\\\\\\n', \"JERRY: How did she do it? She's like Meryl Streep this woman. And I had to work the equipment. I'm not unskilled, I'm in the union. If she'd at least told me, maybe I could have done something about it.\\\\\\n\", 'KRAMER: Yeah I could have helped you out.\\\\\\n', 'JERRY: What could you have done?\\\\\\n', 'KRAMER: I could have given you some pointers. I know how to press those buttons body.\\\\\\n', \"JERRY: I'm feeling very inadequate about the whole thing.\\\\\\n\", 'KRAMER: Aaaaah.\\\\\\n', \"JERRY: Don't aaaaah! I'm supposed to do something with her later? I don't even think I wanna see her.\\\\\\n\", '(The phone rings)\\\\\\n', 'KRAMER: Giddy-up.\\\\\\n', '(Jerry picks it up)\\\\\\n', 'JERRY: Hello... Oh hello Elaine.\\\\\\n', \"ELAINE: So we're having dinner tonight?\\\\\\n\", \"JERRY: I don't know, I'm not really in the mood.\\\\\\n\", \"ELAINE: Why? What's wrong? You're not still thinking about this afternoon are you?\\\\\\n\", 'JERRY: What, the grilled cheese? Naaah, they always burn the toast.\\\\\\n', 'ELAINE: Nooo, the other thing.\\\\\\n', 'JERRY: Oooh that. Well...\\\\\\n', 'ELAINE: Oh come on, Jerry. Making to much of a big deal about it.\\\\\\n', 'JERRY: Yeah I guess. So you wanna meet at that place at seven thirty?\\\\\\n', 'ELAINE: Okay.\\\\\\n', 'JERRY: All right.\\\\\\n', 'ELAINE: All right, see you later.\\\\\\n', 'JERRY: Bye.\\\\\\n', 'ELAINE: Bye.\\\\\\n', \"[location: Elaine's office]\\\\\\n\", '(Rene walks passed the office)\\\\\\n', 'ELAINE: Rene, can you come here a second? Let me ask you something: have you ever... you know... faked it?\\\\\\n', 'RENE: Yeah, sometimes.\\\\\\n', 'ELAINE: Really, like when?\\\\\\n', 'RENE: Like if we went to a Broadway show, if we had really good seats.\\\\\\n', 'ELAINE: Yeah, well...\\\\\\n', \"RENE: Well you know, if it's enough all ready and I just wanna get some sleep.\\\\\\n\", \"[location: Jerry's apartment]\\\\\\n\", \"JERRY: I really don't feel like seeing her.\\\\\\n\", 'KRAMER: You know, I faked it.\\\\\\n', 'JERRY: What?!\\\\\\n', 'KRAMER: Yeah.\\\\\\n', 'JERRY: You faked it? Why would you do that?\\\\\\n', \"KRAMER: Well you know, if it's enough already and I just wanna get some sleep.\\\\\\n\", 'JERRY: Yeah, but why would you...\\\\\\n', '(Kramer spits out his peach)\\\\\\n', 'JERRY: Bad peach?\\\\\\n', \"KRAMER: It's terrible!\\\\\\n\", \"JERRY: Did you get that at Joe's?\\\\\\n\", \"KRAMER: Yeah, of course I got it at Joe's.\\\\\\n\", \"JERRY: That's surprising, his fruit is usually the best.\\\\\\n\", \"KRAMER: You know what I'm gonna do? I'm gonna return this.\\\\\\n\", \"JERRY: You're returning used fruit?\\\\\\n\", 'KRAMER: Jerry this peach is sub par.\\\\\\n', \"[location: Joe's]\\\\\\n\", 'JOE: So what do you want me to do?\\\\\\n', 'KRAMER: I want restitution.\\\\\\n', 'JOE: Restitution? You want restitution? Why should I give you restitution?\\\\\\n', \"KRAMER: Because it's no good.\\\\\\n\", \"JOE: When you put that fruit out, that's where it ends for me.\\\\\\n\", \"KRAMER: It's still your fruit, you gotta stand behind your fruit.\\\\\\n\", 'JOE: I stand behind my fruit.\\\\\\n', 'KRAMER: So...\\\\\\n', \"JOE: Hey, you got a bad peach? That's an act of God. He makes the peaches. I don't make the peaches, I sell the peaches. You have a problem? You talk to him.\\\\\\n\", 'KRAMER: You know this whole place is going vrrrrrrrrrrrrt, downhill. I could have come in here last week with a bad plum but I let it go.\\\\\\n', \"JOE: Well let me put a solution for you: do your business elsewhere, I don't want your business.\\\\\\n\", \"KRAMER: Oh now you don't want my business.\\\\\\n\", \"JOE: No, I don't want your business and from this moment you're banned from the store, you're banned!\\\\\\n\", 'KRAMER: But what am I gonna do for fruit?\\\\\\n', '[location: restaurant]\\\\\\n', '(Karin starts moaning and lights a cigarette after finishing dinner)\\\\\\n', 'GEORGE: You seem like you really enjoyed your Risotto. You have a very contented air over there. You look very contented, very satisfied. Are you satisfied?\\\\\\n', \"KARIN: I'm very satisfied.\\\\\\n\", \"GEORGE: I'm sure if you weren't satisfied you would probably say something wouldn't you?\\\\\\n\", \"KARIN: I probably would. But then again I'm an enigma.\\\\\\n\", \"GEORGE: Hey listen... instead of the movie... maybe we'll go back and... you know...\\\\\\n\", 'KARIN: Maybe.\\\\\\n', 'GEORGE: So... you feel okay about that whole thing... what we do in there... generally okay with everything in there?\\\\\\n', 'KARIN: Generally.\\\\\\n', 'GEORGE: Do you feel the way you feel after the Risotto?\\\\\\n', 'KARIN: No, I feel full after the Risotto.\\\\\\n', 'GEORGE: Yeah... full.\\\\\\n', '[location: (another) restaurant]\\\\\\n', '(Elaine starts moaning after finishing dinner)\\\\\\n', 'JERRY: Satisfied?\\\\\\n', 'ELAINE: Hey, you know what? You wanna go see that new Meryl Streep movie?\\\\\\n', 'JERRY: Meryl Streep?\\\\\\n', \"ELAINE: You don't like her?\\\\\\n\", \"JERRY: Ah, she's okay.\\\\\\n\", \"ELAINE: I love her Jerry, she's so authentic. I really believe everything is actually happening to her. There's no acting there.\\\\\\n\", \"JERRY: Yeah. You don't want coffee or anything do you?\\\\\\n\", \"ELAINE: I really admire actors, you know. It's just such an incredible skill.\\\\\\n\", 'JERRY: Yeah, yeah, can we get off of this?\\\\\\n', \"ELAINE: What's the matter?\\\\\\n\", 'JERRY: Nothing.\\\\\\n', \"ELAINE: You're not still thinking about that are you?\\\\\\n\", 'JERRY: Nooo.\\\\\\n', 'ELAINE: Oh good.\\\\\\n', 'JERRY: Give me another shot!\\\\\\n', 'ELAINE: What?\\\\\\n', 'JERRY: Another shot, I want another shot.\\\\\\n', 'ELAINE: You mean...?\\\\\\n', 'JERRY: Yes!\\\\\\n', \"ELAINE: Oooh no, I don't think so.\\\\\\n\", 'JERRY: Come on! One shot, I can do it, I know I can do it!\\\\\\n', \"ELAINE: Jerry, we're friends! We can't do that, it would ruin our friendship.\\\\\\n\", 'JERRY: Oh friendship... friendship, shmanship .\\\\\\n', \"ELAINE: Jerry no, that's important to me.\\\\\\n\", \"JERRY: We won't ruin the friendship.\\\\\\n\", 'ELAINE: Yes we will!\\\\\\n', 'JERRY: Elaine...\\\\\\n', 'ELAINE: No Jerry, it is out of the question. You know what sex does to a friendship, it kills it.\\\\\\n', 'JERRY: A half hour, give me a half our.\\\\\\n', 'ELAINE: No!\\\\\\n', 'JERRY: Okay, fifteen minutes. I guarantee you fifteen minutes, I can make it happen!\\\\\\n', 'ELAINE: No!\\\\\\n', \"JERRY: You're worried I'll be able to do it aren't you?\\\\\\n\", \"ELAINE: What, no, it doesn't matter. Jerry, I don't care.\\\\\\n\", \"JERRY: That's it, that's it. You like having this over me, you don't want me to do it.\\\\\\n\", 'ELAINE: That is so ridiculous.\\\\\\n', 'JERRY: Come on, Elaine!\\\\\\n', 'ELAINE: No.\\\\\\n', 'JERRY: Elaine?!\\\\\\n', 'ELAINE: No!\\\\\\n', \"[location: Karin's bedroom]\\\\\\n\", '(George indicates that the sex went wrong)\\\\\\n', \"GEORGE: It's Jerry's fault.\\\\\\n\", 'KARIN: Jerry?\\\\\\n', 'GEORGE: Jerry and Elaine. They made me nuts.\\\\\\n', \"KARIN: Oh I don't care, George, really it's all right.\\\\\\n\", 'GEORGE: So you feel okay?\\\\\\n', \"KARIN: Well, it's not like after the Risotto.\\\\\\n\", \"[location: Jerry's car]\\\\\\n\", 'JERRY: Well good night.\\\\\\n', \"ELAINE: I still don't understand why we had to walk out on that movie.\\\\\\n\", \"JERRY: Oh that Meryl Streep, she's such a phony baloney.\\\\\\n\", 'ELAINE: Goodnight. Thanks for a really fabulous evening (sarcastic).\\\\\\n', \"JERRY: Oh what, you're upset?\\\\\\n\", \"ELAINE: Yes I'm upset, can't you tell?\\\\\\n\", \"JERRY: No I can't, maybe you're faking.\\\\\\n\", \"ELAINE: I'm really, really sorry I told you that.\\\\\\n\", \"JERRY: I'm sorry too.\\\\\\n\", 'ELAINE: Well stop being such a baby.\\\\\\n', \"JERRY: You're a baby!\\\\\\n\", \"ELAINE: You're a baby!\\\\\\n\", \"[location: Jerry's apartment]\\\\\\n\", \"GEORGE: It's all your fault! You and Elaine! All that orgasm talk. She did have an orgasm, she didn't have an orgasm. Orgasm this, orgasm that. I got so focused on it. I started to panic and boom, I lost it. I tried everything, I was talking to him: 'Please wake up, do something.'\\\\\\n\", \"JERRY: They're mysterious little fellows aren't they?\\\\\\n\", \"GEORGE: I hate 'em!\\\\\\n\", 'JERRY: You know it happens to everybody. It happened to Houdini. And he could get out of a trunk under water with his hands in chains! But he had a problem with that. The miracle is that it ever happens.\\\\\\n', \"GEORGE: It's like a magic trick. Sometimes I think it would be easier to bend a spoon mentally than to make that transformation.\\\\\\n\", '(Kramer enters the apartment)\\\\\\n', 'KRAMER: Hey listen, if I give you money would you go out and get me some fruit?\\\\\\n', \"JERRY: Why can't you get it?\\\\\\n\", \"KRAMER: Well I got banned from the store I can't go back in there now.\\\\\\n\", 'JERRY: What happened?\\\\\\n', \"KRAMER: Well you know, we had a fight over the peach and... well Joe doesn't want my business.\\\\\\n\", 'GEORGE: Hey, was that a joke about Houdini?\\\\\\n', 'JERRY: No. (And to Kramer:) I told you not to say anything.\\\\\\n', 'KRAMER: Jerry, what am I gonna do for fruit?\\\\\\n', \"JERRY: Well you'll have to go to the supermarket.\\\\\\n\", \"KRAMER: The supermarket? That's impossible! They don't have a decent piece of fruit at the supermarket. The apples are mealy, the oranges are dry. I don't know what's going on with the Papayas! Jerry you gotta go to Joe's, you gotta get me some fruit!\\\\\\n\", \"JERRY: Oh so what I'm going to buy all your fruit now?\\\\\\n\", \"GEORGE: Well if Houdini couldn't do it, what chance do I have?\\\\\\n\", '(George leaves the apartment)\\\\\\n', '(The phone rings, Jerry picks it up)\\\\\\n', \"JERRY: Hello... Oh hi Patty, thanks for calling me back. I just wanted to ask you a question: when we we're going out did you have orgasms?... Okay, thanks... No that's it... Okay, bye.\\\\\\n\", '(Jerry hangs up the phone)\\\\\\n', \"JERRY: Patty Lawrence had 'em!\\\\\\n\", \"KRAMER: Okay, I'm gonna make you a fruit list, all right?\\\\\\n\", 'JERRY: Yeah.\\\\\\n', '(Jerry makes another call)\\\\\\n', 'JERRY: Hello Elaine? Patty Lorens had orgasms what do you think about that? And I got calls in to six other women and I bet you they confirm an orgasm too. So what do you have to say now Elaine?... Hello?\\\\\\n', \"[location: outside Joe's]\\\\\\n\", \"JERRY: Why do I feel like I'm doing something wrong?\\\\\\n\", \"KRAMER: All right now here's the list.\\\\\\n\", \"JERRY: All this? It's too much. What do you need five mangos for?\\\\\\n\", 'KRAMER: I like mangos.\\\\\\n', \"JERRY: Avocado? I don't know how to pick out an avocado.\\\\\\n\", 'KRAMER: Well they gotta be soft.\\\\\\n', 'JERRY: How soft?\\\\\\n', 'KRAMER: Not too soft. Better too hard than too soft.\\\\\\n', \"JERRY: I'm not going through this every week, I tell you that right now. And what are these? Plums? What is that?\\\\\\n\", 'KRAMER: Yeah now get the ones that are red on the inside.\\\\\\n', 'JERRY: Well how do I know what they look like on the inside? What do they look like on the outside?\\\\\\n', 'KRAMER: Oh! And get some plantains.\\\\\\n', 'JERRY: Plantains?\\\\\\n', 'KRAMER: Yeah.\\\\\\n', 'JERRY: What the hell is a plantain.\\\\\\n', \"KRAMER: It's part of the banana family. It's a delicacy.\\\\\\n\", \"JERRY: You're not getting any plantains.\\\\\\n\", \"(Jerry enters Joe's)\\\\\\n\", 'JERRY: Hey Joe.\\\\\\n', 'JOE: How is it going?\\\\\\n', \"JERRY: Good, just getting some fruit for myself. Gotta have fruit in the house. I like it as a snack. Wholesome, natural, chock-full of vitamins. I don't know let's see... mangos... four plums with red on the inside... avocado... ooo, just right... and three plantains ought to do it.\\\\\\n\", 'JOE: All right, all right, just hold it right there.\\\\\\n', 'JERRY: What?\\\\\\n', \"JOE: This fruit isn't for you.\\\\\\n\", 'JERRY: What, what are you talking about?\\\\\\n', \"JOE: You think I don't know? Mangos, plantains, plums with the red on the inside, that's Kramer!\\\\\\n\", \"JERRY: I can't buy mangos and plantains?\\\\\\n\", 'JOE: All right, get out!\\\\\\n', \"JERRY: You're making a big mistake, Joe!\\\\\\n\", \"JOE: I'll tell you something else: I don't what your business anymore either.\\\\\\n\", \"JERRY: You're saying you're banning me from the store?\\\\\\n\", \"JOE: That's exactly what I'm saying.\\\\\\n\", \"JERRY: I'm banned?!\\\\\\n\", \"JOE: You're banned.\\\\\\n\", \"[location: Jerry's apartment]\\\\\\n\", 'GEORGE: All right, where do you want it?\\\\\\n', 'JERRY: Put it over there.\\\\\\n', 'KRAMER: Yes! Oh look at this, these mangos are beautiful! Oh these are beautiful, you did good George.\\\\\\n', '(Kramer leaves the apartment)\\\\\\n', 'GEORGE: All right I gotta get going.\\\\\\n', 'JERRY: What are you doing?\\\\\\n', \"GEORGE: I got a date with Karin. I don't know what I'm gonna do. Nothing happening down there.\\\\\\n\", \"JERRY: You're thinking about it too much. You're putting too much emphasis on it.\\\\\\n\", \"GEORGE: I knew this was gonna happen some day. It was inevitable. I've known it ever since I was a little kid. I've been waiting for it.\\\\\\n\", '(Kramer enters the apartment)\\\\\\n', 'KRAMER: This mango is delicious!\\\\\\n', \"GEORGE: That reminds me, I'm not getting you guys any more fruit. That guy was eyeballing me the whole time. He gave me the creeps. All right, you owe me twenty-eight sixty.\\\\\\n\", \"JERRY: Sorry, I don't have any cash.\\\\\\n\", 'KRAMER: I only got hundreds.\\\\\\n', 'GEORGE: All right I knew it.\\\\\\n', \"KRAMER: Come on, come on, we're gonna pay you! Here have some mango.\\\\\\n\", \"GEORGE: I don't want any mango.\\\\\\n\", \"KRAMER: Come on, take some. It's good.\\\\\\n\", '(George tries a piece)\\\\\\n', \"GEORGE: Very good. Juicy. Ripe. This Joe's got some terrific fruit.\\\\\\n\", '(George looks a little weird)\\\\\\n', 'JERRY: What?\\\\\\n', 'GEORGE: I feel like I got a B12 shot. This is like a taste explosion!\\\\\\n', 'KRAMER: I told you.\\\\\\n', '(George stands still)\\\\\\n', 'JERRY: What is it?\\\\\\n', \"GEORGE: I think it moved. Oh my god, I think it moved. Yeah, give me the big piece. I'll see you later.\\\\\\n\", '(Elaine enters the apartment)\\\\\\n', 'ELAINE: Hi George.\\\\\\n', \"GEORGE: I'm back, baby, I'm back!\\\\\\n\", '(George leaves the apartment)\\\\\\n', 'KRAMER: Want some mango?\\\\\\n', 'ELAINE: No, thanks.\\\\\\n', '(Kramer leaves the apartment)\\\\\\n', \"JERRY: Well well, if it isn't the first lady of the American Theatre. What brings you here?\\\\\\n\", 'ELAINE: Just gonna return some of your things that were in my house.\\\\\\n', \"JERRY: Oh and I've got some things of yours here.\\\\\\n\", 'ELAINE: I know.\\\\\\n', \"JERRY: Well I'll get them.\\\\\\n\", \"ELAINE: I'm waiting.\\\\\\n\", 'JERRY: All right. You got my fins?\\\\\\n', 'ELAINE: Yeah I got your fins. You got my poker chips?\\\\\\n', 'JERRY: I got your poker chips. You got my goggles?\\\\\\n', \"ELAINE: They're next to the fins. You got my cards?\\\\\\n\", \"JERRY: They're next to the poker chips.\\\\\\n\", '(They switch bags)\\\\\\n', 'ELAINE: All right and that just about... does it.\\\\\\n', 'JERRY: I guess.\\\\\\n', 'ELAINE: Okay, well... see you around.\\\\\\n', 'JERRY: Yeah, see you.\\\\\\n', '(Elaine opens the door and then closes it again)\\\\\\n', \"ELAINE: All right, let's go, I give you half an hour.\\\\\\n\", 'JERRY: What?\\\\\\n', 'ELAINE: Come on!\\\\\\n', 'JERRY: Are you serious?\\\\\\n', 'ELAINE: Look, Jerry, we have to have sex to save the friendship.\\\\\\n', 'JERRY: Sex... to save the friendship. Well, if we have to...\\\\\\n', \"[location: Karin's bedroom]\\\\\\n\", 'KARIN: Oh George, oooh.\\\\\\n', \"GEORGE: Please, it's not necessary.\\\\\\n\", \"KARIN: What do you mean it's not necessary?\\\\\\n\", \"GEORGE: The little extra moan you threw in there. Laying it on a bit thick, don't you think?\\\\\\n\", 'KARIN: What are you talking about?\\\\\\n', \"GEORGE: What am I talking about? Come on. You don't think I bought all that?\\\\\\n\", 'KARIN: What, what?\\\\\\n', \"GEORGE: You're very good. Very good with the moanings and the gyrations. You really had me going there for a minute.\\\\\\n\", 'KARIN: You think I was faking?\\\\\\n', \"GEORGE: Come on: 'Oh George, oh Geeeooorge!' Come on! Not that I don't appreciate the effort that was put into it.\\\\\\n\", \"KARIN: I'd like you to leave.\\\\\\n\", 'GEORGE: What?\\\\\\n', 'KARIN: I said, I would like you to leave. Come on, just get your clothes on and get out.\\\\\\n', 'GEORGE: But why?\\\\\\n', 'KARIN: Because I said so.\\\\\\n', \"GEORGE: I can't find my glasses.\\\\\\n\", 'KARIN: Well hurry up.\\\\\\n', 'GEORGE: I need to look for my glasses.\\\\\\n', 'KARIN: Get out! Get out!! Get out!!!\\\\\\n', \"[location: Jerry's bedroom]\\\\\\n\", '(Elaine is reading a magazine and Jerry is making desperate noises)\\\\\\n', \"JERRY: It's all George's fault. All that talk about impotence. He got to me. And that orgasm stuff: orgasm this and orgasm that. It's a lot of pressure!\\\\\\n\", \"ELAINE: You know I'm a little hungry. You wouldn't happen to have any of that mango left?\\\\\\n\", \"(Jerry looks like he's got an idea)\\\\\\n\", '}']\n"
     ]
    }
   ],
   "source": [
    "with open('Seinfeld_Episodes/Season_5/S05_E01_The_Mango.rtf') as f:\n",
    "    test_song = f.readlines()\n",
    "    print(test_song)"
   ]
  },
  {
   "cell_type": "code",
   "execution_count": null,
   "metadata": {},
   "outputs": [],
   "source": []
  }
 ],
 "metadata": {
  "kernelspec": {
   "display_name": "Python 3",
   "language": "python",
   "name": "python3"
  },
  "language_info": {
   "codemirror_mode": {
    "name": "ipython",
    "version": 3
   },
   "file_extension": ".py",
   "mimetype": "text/x-python",
   "name": "python",
   "nbconvert_exporter": "python",
   "pygments_lexer": "ipython3",
   "version": "3.7.2"
  }
 },
 "nbformat": 4,
 "nbformat_minor": 2
}
