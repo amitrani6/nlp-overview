{
 "cells": [
  {
   "cell_type": "markdown",
   "metadata": {},
   "source": [
    "# MAP and Naive Bayes\n",
    "\n",
    "This notebook covers a two class style MAP naive bayes example from learn.co's lesson titled \"MAP and Naive Bayes Classifier\""
   ]
  },
  {
   "cell_type": "code",
   "execution_count": 1,
   "metadata": {},
   "outputs": [],
   "source": [
    "#Takes in vicinity count for new observations and returns likelihood\n",
    "\n",
    "def new_observation_likelihood(total_red, total_green, red_vicinity, green_vicinity):\n",
    "    likelihood_given_red = red_vicinity / total_red\n",
    "    likelihood_given_green = green_vicinity / total_green\n",
    "    return (likelihood_given_red, likelihood_given_green)\n",
    "    "
   ]
  },
  {
   "cell_type": "code",
   "execution_count": 2,
   "metadata": {},
   "outputs": [],
   "source": [
    "#Takes in total number of observations and returns the prior probabilities\n",
    "\n",
    "def obtain_prior_probabilities(total_red, total_green):\n",
    "    total_number_of_observations = total_red + total_green\n",
    "    \n",
    "    prior_probability_red = total_red / total_number_of_observations\n",
    "    prior_probability_green = total_green / total_number_of_observations\n",
    "    \n",
    "    return (prior_probability_red, prior_probability_green)\n",
    "    \n",
    "    "
   ]
  },
  {
   "cell_type": "code",
   "execution_count": 3,
   "metadata": {},
   "outputs": [],
   "source": [
    "#Returns the posterior probabilities of the experiment\n",
    "\n",
    "def obtain_posterior_probabilities(total_red, total_green, red_vicinity, green_vicinity):\n",
    "    \n",
    "    likelihood_given_red = new_observation_likelihood(total_red, total_green, red_vicinity, green_vicinity)[0]\n",
    "    likelihood_given_green = new_observation_likelihood(total_red, total_green, red_vicinity, green_vicinity)[1]\n",
    "    \n",
    "    prior_probability_red = obtain_prior_probabilities(total_red, total_green)[0]\n",
    "    prior_probability_green = obtain_prior_probabilities(total_red, total_green)[1]\n",
    "    \n",
    "    posterior_probability_red = likelihood_given_red * prior_probability_red\n",
    "    prior_probability_green = likelihood_given_green * prior_probability_green\n",
    "    \n",
    "    return (posterior_probability_red, prior_probability_green)"
   ]
  },
  {
   "cell_type": "code",
   "execution_count": 4,
   "metadata": {},
   "outputs": [],
   "source": [
    "def print_results(total_red, total_green, red_vicinity, green_vicinity):\n",
    "    \n",
    "    likelihood_given_red = new_observation_likelihood(total_red, total_green, red_vicinity, green_vicinity)[0]\n",
    "    likelihood_given_green = new_observation_likelihood(total_red, total_green, red_vicinity, green_vicinity)[1]\n",
    "    \n",
    "    prior_probability_red = obtain_prior_probabilities(total_red, total_green)[0]\n",
    "    prior_probability_green = obtain_prior_probabilities(total_red, total_green)[1]\n",
    "    \n",
    "    posterior_probability_red = obtain_posterior_probabilities(total_red, total_green, red_vicinity, green_vicinity)[0]\n",
    "    posterior_probability_green = obtain_posterior_probabilities(total_red, total_green, red_vicinity, green_vicinity)[1]\n",
    "    \n",
    "    print(\"The posterior probability that the observation belongs to the red class is: \\n\")\n",
    "    print(\"{} \\n\".format(posterior_probability_red))\n",
    "    \n",
    "    print(\"The posterior probability that the observation belongs to the green class is: \\n\")\n",
    "    print(\"{} \\n\".format(posterior_probability_green))\n",
    "    \n",
    "    \n",
    "    if posterior_probability_red > prior_probability_green:\n",
    "        print(\"The Naive Bayes Classifier predicts that this observation belongs to the red class.\")\n",
    "    \n",
    "    else:\n",
    "        print(\"The Naive Bayes Classifier predicts that this observation belongs to the green class.\")\n",
    "        \n",
    "        \n",
    "        "
   ]
  },
  {
   "cell_type": "code",
   "execution_count": 5,
   "metadata": {},
   "outputs": [
    {
     "name": "stdout",
     "output_type": "stream",
     "text": [
      "How many red observations are there in total? 20\n",
      "How many green observations are there in total? 40\n",
      "\n",
      "Draw a circle around a new observation. \n",
      "\n",
      "How many red observations are in the circle? 3\n",
      "How many green observations are in the circle? 1\n",
      "\n",
      "\n",
      "The posterior probability that the observation belongs to the red class is: \n",
      "\n",
      "0.049999999999999996 \n",
      "\n",
      "The posterior probability that the observation belongs to the green class is: \n",
      "\n",
      "0.016666666666666666 \n",
      "\n",
      "The Naive Bayes Classifier predicts that this observation belongs to the green class.\n",
      "None\n"
     ]
    }
   ],
   "source": [
    "red = int(input(\"How many red observations are there in total? \"))\n",
    "green = int(input(\"How many green observations are there in total? \"))\n",
    "\n",
    "print(\"\\nDraw a circle around a new observation. \\n\")\n",
    "\n",
    "red_vicinity = int(input(\"How many red observations are in the circle? \"))\n",
    "green_vicinity = int(input(\"How many green observations are in the circle? \"))\n",
    "\n",
    "print(\"\\n\")\n",
    "\n",
    "print(print_results(red, green, red_vicinity, green_vicinity))"
   ]
  },
  {
   "cell_type": "code",
   "execution_count": null,
   "metadata": {},
   "outputs": [],
   "source": []
  }
 ],
 "metadata": {
  "kernelspec": {
   "display_name": "Python 3",
   "language": "python",
   "name": "python3"
  },
  "language_info": {
   "codemirror_mode": {
    "name": "ipython",
    "version": 3
   },
   "file_extension": ".py",
   "mimetype": "text/x-python",
   "name": "python",
   "nbconvert_exporter": "python",
   "pygments_lexer": "ipython3",
   "version": "3.7.2"
  }
 },
 "nbformat": 4,
 "nbformat_minor": 2
}
