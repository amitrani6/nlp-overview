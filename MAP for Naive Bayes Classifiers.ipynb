{
 "cells": [
  {
   "cell_type": "markdown",
   "metadata": {},
   "source": [
    "# MAP and Naive Bayes\n",
    "\n",
    "This notebook will go over the principles of MAP for Naive Bayes Classifiers"
   ]
  },
  {
   "cell_type": "code",
   "execution_count": 1,
   "metadata": {},
   "outputs": [],
   "source": [
    "#Takes in vicinity count for new observations and returns likelihood\n",
    "\n",
    "def new_observation(red_vicinity, green_vicinity):\n",
    "    likelihood_given_red = red_vicinity / (red_vicinity+green_vicinity)\n",
    "    likelihood_given_green = green_vicinity / (red_vicinity+green_vicinity)\n",
    "    return (likelihood_given_red, likelihood_given_green)\n",
    "    "
   ]
  },
  {
   "cell_type": "code",
   "execution_count": null,
   "metadata": {},
   "outputs": [],
   "source": [
    "#Takes in total number of observations and returns the pri\n",
    "\n",
    "def obtain_prior_probabilities(total_red, total_green):\n",
    "    total_number_of_observations = total_red + total_green\n",
    "    \n",
    "    prior_probability_red = total_red / total_number_of_observations\n",
    "    prior_probability_green = total_green / total_number_of_observations\n",
    "    \n",
    "    "
   ]
  }
 ],
 "metadata": {
  "kernelspec": {
   "display_name": "Python 3",
   "language": "python",
   "name": "python3"
  },
  "language_info": {
   "codemirror_mode": {
    "name": "ipython",
    "version": 3
   },
   "file_extension": ".py",
   "mimetype": "text/x-python",
   "name": "python",
   "nbconvert_exporter": "python",
   "pygments_lexer": "ipython3",
   "version": "3.7.2"
  }
 },
 "nbformat": 4,
 "nbformat_minor": 2
}
