{
 "cells": [
  {
   "cell_type": "code",
   "execution_count": 1,
   "metadata": {
    "scrolled": false
   },
   "outputs": [
    {
     "name": "stderr",
     "output_type": "stream",
     "text": [
      "[nltk_data] Downloading package punkt to /Users/Alex/nltk_data...\n",
      "[nltk_data]   Package punkt is already up-to-date!\n"
     ]
    }
   ],
   "source": [
    "#Import the relevand section of the NLP library\n",
    "import nltk\n",
    "nltk.download('punkt')\n",
    "from nltk import word_tokenize\n",
    "from nltk import sent_tokenize\n",
    "\n",
    "\n",
    "from mpl_toolkits.mplot3d import Axes3D\n",
    "from sklearn.manifold import TSNE\n",
    "\n",
    "import pandas as pd\n",
    "import numpy as np\n",
    "import matplotlib.pyplot as plt\n",
    "%matplotlib inline"
   ]
  },
  {
   "cell_type": "code",
   "execution_count": 2,
   "metadata": {},
   "outputs": [],
   "source": [
    "seinfeld_directory = 'Seinfeld_Episodes/Season_5/'\n",
    "\n",
    "seinfeld_season_5_episodes = ['S05_E01_The_Mango.txt', 'S05_E02_The_Puffy_Shirt.txt',\n",
    "                              'S05_E03_The_Glasses.txt', 'S05_E04_The_Sniffing_Accountant.txt',\n",
    "                              'S05_E05_The_Bris.txt', 'S05_E06_The_Lip_Reader.txt',\n",
    "                              'S05_E07_The_Non_Fat_Yogurt.txt', 'S05_E08_The_Barber.txt',\n",
    "                              'S05_E09_The_Masseuse.txt', 'S05_E10_The_Cigar_Store_Indian.txt',\n",
    "                              'S05_E11_The_Conversion.txt', 'S05_E12_The_Stall.txt',\n",
    "                              'S05_E13_The_Dinner_Party.txt', 'S05_E14_The_Marine_Biologist.txt',\n",
    "                              'S05_E15_The_Pie.txt', 'S05_E16_The_Stand-In.txt',\n",
    "                              'S05_E17_The_Wife.txt', 'S05_E18_The_Raincoats_Part_1.txt',\n",
    "                              'S05_E19_The_Raincoats_Part_2.txt', 'S05_E20_The_Fire.txt',\n",
    "                              'S05_E21_The_Hamptons.txt', 'S05_E22_The Opposite.txt']"
   ]
  },
  {
   "cell_type": "code",
   "execution_count": 3,
   "metadata": {
    "scrolled": true
   },
   "outputs": [
    {
     "data": {
      "text/plain": [
       "\"[Setting: Jerry's apartment] (Jerry and George are waiting for Kramer, so he can help them move George's stuff back into his parent's house) GEORGE: I can't believe this! JERRY: Oh, it won't be for that long. GEORGE: How can I do this?! How can I move back in with those people? Please, tell me! They're insane! You know that. JERRY: Hey, my parents are just as crazy as your parents. GEORGE: How can you compare you parents to my parents?! JERRY: My father has never thrown anything out. Ever! GEORGE: My father wears his sneakers in the pool! Sneakers! JERRY: My mother has never set foot in a natural body of water. GEORGE: (Showing Jerry up) Listen carefully. My mother has never laughed. Ever. Not a giggle, not a chuckle, not a tee-hee.. never went 'Ha!' JERRY: A smirk? GEORGE: Maybe!.. And I'm moving back in there! JERRY: I told you I'd lend you the money for the rent. GEORGE: No, no, no, no. Borrowing money from a friend is like having sex. It just completely changes the relationship. (Kramer stumbles in) KRAMER: Alright. I'm ready. (To\""
      ]
     },
     "execution_count": 3,
     "metadata": {},
     "output_type": "execute_result"
    }
   ],
   "source": [
    "with open(seinfeld_directory + seinfeld_season_5_episodes[1], 'r') as file:\n",
    "    raw_text_episode_2 = file.read().replace('\\n', ' ')\n",
    "    #.replace('[','(').replace(']',')')\n",
    "raw_text_episode_2[:1050]"
   ]
  },
  {
   "cell_type": "code",
   "execution_count": 24,
   "metadata": {},
   "outputs": [
    {
     "ename": "SyntaxError",
     "evalue": "invalid syntax (<ipython-input-24-5f3fc3bc9bbf>, line 6)",
     "output_type": "error",
     "traceback": [
      "\u001b[0;36m  File \u001b[0;32m\"<ipython-input-24-5f3fc3bc9bbf>\"\u001b[0;36m, line \u001b[0;32m6\u001b[0m\n\u001b[0;31m    raw_text_episode_2.replace(/ *\\([^)]*\\) */g, \"\")\u001b[0m\n\u001b[0m                               ^\u001b[0m\n\u001b[0;31mSyntaxError\u001b[0m\u001b[0;31m:\u001b[0m invalid syntax\n"
     ]
    }
   ],
   "source": [
    "# Regex Removal of text between brackets and parentheses\n",
    "\n",
    "# import re\n",
    "# re.sub(\"[\\(\\[].*?[\\)\\]]\", \"\", raw_text_episode_2)\n",
    "\n",
    "raw_text_episode_2.replace(/ *\\([^)]*\\) */g, \"\")"
   ]
  },
  {
   "cell_type": "code",
   "execution_count": 28,
   "metadata": {},
   "outputs": [
    {
     "data": {
      "text/plain": [
       "'[Setting: Jerry\\'s apartment] GEORGE: I can\\'t believe this! JERRY: Oh, it won\\'t be for that long. GEORGE: How can I do this?! How can I move back in with those people? Please, tell me! They\\'re insane! You know that. JERRY: Hey, my parents are just as crazy as your parents. GEORGE: How can you compare you parents to my parents?! JERRY: My father has never thrown anything out. Ever! GEORGE: My father wears his sneakers in the pool! Sneakers! JERRY: My mother has never set foot in a natural body of water. GEORGE: Listen carefully. My mother has never laughed. Ever. Not a giggle, not a chuckle, not a tee-hee.. never went \\'Ha!\\' JERRY: A smirk? GEORGE: Maybe!.. And I\\'m moving back in there! JERRY: I told you I\\'d lend you the money for the rent. GEORGE: No, no, no, no. Borrowing money from a friend is like having sex. It just completely changes the relationship. KRAMER: Alright. I\\'m ready. You know, I still don\\'t understand - why do you want to move back in with your parents? GEORGE: I don\\'t want to! I\\'m outta money! I got 714 dollars left in the bank. KRAMER: Well, move in here. JERRY: What\\'s that? KRAMER: Why doesn\\'t he just move in here? GEORGE: Yeah, yeah. I\\'m gonna move in with him. He doesn\\'t even let you use the toilet! KRAMER: You can move in with me, if you want. GEORGE: Thank you.. I, uh.. that might not work out. [Setting: The Costanza\\'s house] ESTELLE: Careful! Careful with the suitcases! We just painted! KRAMER: Hello, Mrs. Costanza. ESTELLE: Hello, Kramer. Close the door. KRAMER: Well, I gotta bring in more stuff. ESTELLE: More stuff?! KRAMER: Yeah. ESTELLE: How much is there?! GEORGE: There\\'s more. ESTELLE: So, how are ya, Jerry? JERRY: Fine, Mrs. Costanza. Hey, I got a terrific joke for you.. ESTELLE: Nah, not interested. JERRY: No, no. It\\'s really funny. There\\'s these two guys- ESTELLE: Tell it to the audience. Here, I made some bologna sandwiches. GEORGE: Bologna?! No one eats bologna anymore! ESTELLE: What are you talking about?! Have a sandwich. JERRY: No thanks. ESTELLE: Oh, stop it! You don\\'t want one, Kramer? KRAMER: Uhh.. no thanks. ESTELLE: I think you\\'re all a little touched in the head. You\\'re so worried about your health.. You\\'re young men. JERRY: I really don\\'t eat it. ESTELLE: What am I gonna do with all these sandwiches?! Will you take them home? Give them to someone in your building? JERRY: I don\\'t know if I\\'d feel comfortable handing out bologna sandwiches in the building.. KRAMER: Alright, that\\'s it. Anything else? GEORGE: No, that\\'s it. KRAMER: Oh, I gotta go move the car. JERRY: Well, I guess we\\'ll be going.. GEORGE: What? You\\'re going? JERRY: Yeah. GEORGE: Wha - what are you doing later? JERRY: Oh, Elaine and I are going out to dinner with Kramer and his new girlfriend. GEORGE: Really? JERRY: Yeah, You can\\'t believe this woman. She\\'s one of those low-talkers. You can\\'t hear a word she\\'s saying! You\\'re always going \\'excuse me?\\', \\'what was that?\\' GEORGE: Yeah.. may - maybe I\\'ll meet ya? ESTELLE: No, George. We\\'re going out to eat tonight with your father. GEORGE: Oh.. okay.. talk to you later. JERRY: Yeah, take it easy. GEORGE: Oh, my God.. [Setting: A Restaurant] ELAINE: Okay, well, he had this idea of a pizza place where you make your own pie! JERRY: Right. ELIANE: You remember that? KRAMER: Yeah, well, that was a good one. JERRY: Well.. ELAINE: What\\'s that? JERRY: Excuse me? JERRY: Yeah.. yeah. ELAINE: Yep. Yeah.. KRAMER: You know that, uh, Leslie is in the clothing business? She\\'s a designer. ELAINE: Oh? KRAMER: In fact, she\\'s come up with a new one that is going to be the big new look in mens fashions.. It\\'s a, a puffy shirt. Well, yeah, it - it\\'s all puffy. Like the pirates used to wear. ELAINE: Oh, a puffy shirt. JERRY: Puffy. KRAMER: Yeah, see, I think people want to look like pirates. You know, it\\'s the right time for it.. to be all puffy, and devil-may-care.. KRAMER: That\\'s true.. I\\'ll be right back. ELAINE: Uh, oh! Jerry\\'s going to be on the \"Today\" show on Friday. JERRY: Yeah, that\\'s right! ELAINE: Yep.. yep. Um, he\\'s promoting a benefit for Goodwill, you know, they, uh, they clothe the poor, and the homeless.. JERRY: And the indigent. ELAINE: And the indigent, yeah.. I, I do volunteer work for them. I set the whole thing up, and I got Jerry to do it. JERRY: Sure. ELAINE: Ohh, yeah. Yeah.. yep. JERRY: Uh-huh. ELAINE: Yep. JERRY: Yep.. ELAINE: Mmm [Setting: A Restaurant] ESTELLE: Maybe you should take a civil service test. GEORGE: I\\'m not taking a civil service test. FRANK: Look at this, George. You ever seen a silver dollar? GEORGE: Yes, I\\'ve seen a silver dollar. ELAINE: Why don\\'t you want to take a civil service test? GEORGE: To do what?! Work in a post office? Is that what you want me to do? FRANK: Would you believe when I was 18, I had a silver dollar collection? ESTELLE: I don\\'t understand. You get job security - you get a pay check every week.. GEORGE: I\\'m a college graduate. You want me to be a mailman? FRANK: You know, I couldn\\'t bring myself to spend one of these. I got some kind of a-a-a-a-a phobia. ESTELLE: So what are you gonna do?! GEORGE: I don\\'t know. I do know that I have some kind of a talent - something to offer. I just don\\'t know what it is yet! FRANK: I bet that collection would be worth a lot of money today. GEORGE: Oh my God.. FRANK: I don\\'t like this waiter. Look at him.. He sees us.. he doesn\\'t want to come over. GEORGE: I need some air.. ESTELLE: George, where are you going?! GEORGE: I got a lot of thinking to do. GEORGE: Oh, I\\'m sorry. I\\'m terribly sorry.. WOMAN: Look at what you\\'ve done! You spilled my bag! GEORGE: I, I, I, .. here, let me - let me help you.. WOMAN: No, no ,no. It\\'s all right. GEORGE: It - it\\'s just that I\\'m here with my parents, and my mother wants me to take a civil service test - and to tell you the truth, I don\\'t even think I\\'d pass it.. So.. WOMAN: Hmm.. GEORGE: What? WOMAN: Your hands. GEORGE: What about them? WOMAN: They\\'re quite exquisite! GEORGE: They are? WOMAN: Extraordinary! Have you ever done any hand modeling? GEORGE: Hand modeling? WOMAN: Here\\'s my card. Why don\\'t you, uh, give me a call? [Setting: Jerry\\'s apartment] JERRY: I - I don\\'t get it. GEORGE: Me neither! JERRY: What is it? GEORGE: I don\\'t know. JERRY: They\\'re hands! GEORGE: This woman just set me up for a job! JERRY: Well, what about my hands? I don\\'t see how your hands are any better than my hands. GEORGE: What, are you kidding? The knuckles are all out of proportion. you got hair over there - where do you get off comparing your hands to my hands?! This is a one-in-a-million hand. JERRY: Well, that\\'s what comes from avoiding manual labor your whole life. GEORGE: This is it! It happened to me, Jerry! I was sitting in the restaurant, the two nut jobs were talking - I couldn\\'t take it any more. I got up, and I bop into this woman.. KRAMER: Hey. JERRY: Hey. KRAMER: Hey, George! GEORGE: What are you, crazy?! What are you, crazy?! KRAMER: What?! GEORGE: You coulda damaged my hand! KRAMER: But, it\\'s only a toy! JERRY: George has become a hand model. KRAMER: A hand model? JERRY: Yes. KRAMER: Really? Let me look at them.. GEORGE: You can look at them, but do NOT touch them. KRAMER: Let\\'s see.. oh, those are nice. You know, I\\'ve never noticed this before? They\\'re smooth.. creamy.. delicate, yet masculine. GEORGE: Alright, I gotta get going. JERRY: Oven mitts? GEORGE: That\\'s all I could find. Would you mind getting the door? KRAMER: Yeah.. JERRY: Alright. GEORGE: Thank you very much. KRAMER: You\\'re not going to believe what happening with Leslie. You know, ever since you agreed to wear the puffy shirt on the Today show, she\\'s been getting all these orders from boutiques and department stores.. JERRY: Uh-huh.. Since I said what? KRAMER: Agreed to wear the puffy shirt. JERRY: What are you talking about? KRAMER: When you said that you\\'d agree to wear the puffy shirt on the Today show. JERRY: This? KRAMER: Yes! JERRY: I agreed to wear this?! KRAMER: Yeah, yeah. JERRY: But, when did I do that? KRAMER: When we went to dinner the other night. JERRY: What are you, crazy?! KRAMER: What were you talking about when I went to the bathroom? JERRY: I don\\'t know! I couldn\\'t understand a word she was saying! I was just nodding! KRAMER: There you go. JERRY: Where I go? You mean she was asking me to wear this ridiculous shirt on national TV, and I said \\'Yes\\'?! KRAMER: Yes, yes! You said it! JERRY: But, I - I didn\\'t know what she was talking about. I couldn\\'t hear her! KRAMER: Well, she asked you. JERRY: I - I can\\'t wear this puffy shirt on TV! I mean, look at it! It looks ridiculous! KRAMER: Well, you gotta wear it now! All those stores are stocking it based on the condition that you\\'re gonna wear this on the TV show! The factory in New Jersey is already makin\\' them! JERRY: They\\'re making these?! KRAMER: Yes, yes. This pirate trend that she\\'s come up with, Jerry, - this is gonna be the new look for the 90\\'s. You\\'re gonna be the first pirate! JERRY: But, I don\\'t want to be a pirate! [Setting: The Costanza house] ESTELLE: I knew it. I knew it.. I always knew you always had beautiful hands. I used to tell people. Frank, didn\\'t I use to talk about his hands? FRANK: Who the hell did\\'ya ever mention his hands to? ESTELLE: I mentioned his hands to plenty of people! FRANK: You never mentioned them to me! GEORGE: Hand me an Emory board. ESTELLE: I always talk about your hands - how they\\'re so soft and milky white.. FRANK: No! You never said milky white! ESTELLE: I said milky white! GEORGE: Scissor. Don\\'t hand them to me with the point facing out! ESTELLE: I\\'m sorry. GEORGE: You\\'re sorry?! ESTELLE: I\\'ll try to be more careful. GEORGE: I hope so. ESTELLE: Georgie.. Georgie, would you like some Jell-O? FRANK: Why\\'d you put the bananas in there?! ESTELLE: George likes the bananas! FRANK: So let him have bananas on the side! GEORGE: Alright! Please, please! I cannot have this constant bickering!.. Stress is very damaging to the epidermis! Now, I have an important photo session in the morning - my hands have got to be in tip-top shape, so please - keep the television down, and the conversation to a minimum. ESTELLE: But Georgie.. what about the Jell-O? GEORGE: I\\'ll take it in my room. [Setting: A Today Show dressing room] KRAMER: Yeah, come in. STAGEHAND: I just wanted to let you know he\\'s got about five minutes. KRAMER: Giddy-Up. Jerry! Five minutes! KRAMER: Now that\\'s a great looking shirt! Ayye Captain! Yeah! I\\'m glad I ironed it. It\\'s perfect. Look at it! It\\'s fantastic! JERRY: Kramer, how am I gonna wear this?! I can\\'t wear this! KRAMER: Hey, this look\\'s better than anything you own. You know, in two months time, everybody\\'s gonna be wearing the pirate look. Aye! KRAMER: Yeah. ELAINE: Hi, Kramer. Guess what - I just saw Bryant Gumbel, he said he might help out at the benefit! KRAMER: Great. ELAINE: What is that?! KRAMER: It\\'s the puffy shirt. Look at it, eh? Whatd\\'ya think? Is it cool or what? ELAINE: Why\\'re you wearing that now? JERRY: \\'Why am I wearing is now?\\'? I\\'ll tell you why I\\'m wearing it now - because the lowtalker asked me to, that\\'s why! And I said \\'yes\\'. Do you know why? Because I couldn\\'t HEAR her! ELAINE: When did she, when did she ask you this? JERRY: When we were at dinner, when Kramer went to the bathroom. ELAINE: I didn\\'t hear anything. JERRY: Of course not! Nobody hears anything when this woman speaks! ELAINE: Well, you can\\'t wear that on the show. KRAMER: Elaine, you want to stop? ELAINE: Wha- What? No. Jerry, you are promoting a benefit to CLOTHE homeless people. You can\\'t come out dressed like that! You\\'re all puffed up!.. You look like the Count of Monte Cristo! JERRY: I have to wear it! The woman has orders for this shirt based on me wearing it on TV.. they\\'re producing them as we speak! ELAINE: Yeah, but you\\'re supposed to be a compassionate person! That cares about poor people! You look like you\\'re gonna.. swing in on a chandelier! STAGEHAND: Okay, let\\'s go. Is that what you\\'re wearing? [Setting: A photographer\\'s studio] MAN: I\\'ve never seen hands like these before.. WOMAN: They\\'re so soft and milky white. PHOTOGRAPHER: You know who\\'s hands they remind me of? Ray McKigney. MAN: Ugh.. Ray. PHOTOGRAPHER: He was it. GEORGE: Who was he? PHOTOGRAPHER: The most exquisite hands you\\'ve ever seen.. Oh, he had it all. GEORGE: What happened to him? MAN: Tragic story, I\\'m afraid. He could\\'ve had any woman in the world.. but none could match the beauty of his own hand.. and that became his one true love.. GEORGE: You mean, uh..? MAN: Yes. he was not.. master of his domain. GEORGE: But how.. uh..? MAN: The muscles.. became so strained with.. overuse, that eventually the hand locked into a deformed position, and he was left with nothing but a claw. He traveled the world seeking a cure.. acupuncturists.. herbalists.. swamis.. nothing helped. Towards the end, his hands became so frozen the was unable to manipulate utensils, and was dependent on Cub Scouts to feed him. I hadn\\'t seen another pair of hands like Ray McKigney\\'s.. until today. You are his successor. I.. only hope you have a little more self-control. GEORGE: You don\\'t have to worry about me. I won a contest. PHOTOGRAPHER: Ok, let\\'s get to work. [Setting: The Today Show] BRYANT: Back now, 7:46. On Tuesday the 19th here in New York there will be a benefit for the Goodwill Industries - a used clothing organization that provides service to the needy. One of the performers will be comedian Jerry Seinfeld. Jerry, good morning. JERRY: Thank you, Bryant. BRYANT: And speaking of clothing , that is a very, very unusual shirt you have on. JERRY: Oh, thank you. BRYANT: You\\'re all kinda, all kinda \"puffed up\". JERRY: Yeah, it\\'s a puffy shirt.  '"
      ]
     },
     "execution_count": 28,
     "metadata": {},
     "output_type": "execute_result"
    }
   ],
   "source": [
    "import re\n",
    "re.sub(r\" ?\\([^)]+\\)\", \"\", raw_text_episode_2)"
   ]
  },
  {
   "cell_type": "code",
   "execution_count": null,
   "metadata": {},
   "outputs": [],
   "source": [
    "def cleaned_episode(raw_text):\n",
    "    cleaned_episode = []\n",
    "    \n",
    "    \n",
    "    \n",
    "    for line in episode:\n",
    "        if not '[' in line and  not ']' in line:\n",
    "            for symbol in \",.?!''\\n\":\n",
    "                line = line.replace(symbol, '').lower()\n",
    "            cleaned_song.append(line)\n",
    "\n",
    "    return cleaned_song\n",
    "\n",
    "song_without_brackets = clean_song(test_song)\n",
    "song_without_brackets"
   ]
  }
 ],
 "metadata": {
  "kernelspec": {
   "display_name": "Python 3",
   "language": "python",
   "name": "python3"
  },
  "language_info": {
   "codemirror_mode": {
    "name": "ipython",
    "version": 3
   },
   "file_extension": ".py",
   "mimetype": "text/x-python",
   "name": "python",
   "nbconvert_exporter": "python",
   "pygments_lexer": "ipython3",
   "version": "3.7.2"
  }
 },
 "nbformat": 4,
 "nbformat_minor": 2
}
