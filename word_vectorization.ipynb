{
 "cells": [
  {
   "cell_type": "code",
   "execution_count": 1,
   "metadata": {
    "scrolled": false
   },
   "outputs": [
    {
     "name": "stderr",
     "output_type": "stream",
     "text": [
      "[nltk_data] Downloading package punkt to /Users/Alex/nltk_data...\n",
      "[nltk_data]   Package punkt is already up-to-date!\n"
     ]
    }
   ],
   "source": [
    "#Import the relevand section of the NLP library\n",
    "import nltk\n",
    "nltk.download('punkt')\n",
    "from nltk import word_tokenize\n",
    "from nltk import sent_tokenize\n",
    "\n",
    "import re\n",
    "\n",
    "from mpl_toolkits.mplot3d import Axes3D\n",
    "from sklearn.manifold import TSNE\n",
    "\n",
    "import pandas as pd\n",
    "import numpy as np\n",
    "import matplotlib.pyplot as plt\n",
    "%matplotlib inline"
   ]
  },
  {
   "cell_type": "code",
   "execution_count": 2,
   "metadata": {},
   "outputs": [],
   "source": [
    "seinfeld_directory = 'Seinfeld_Episodes/Season_5/'\n",
    "\n",
    "seinfeld_season_5_episodes = ['S05_E01_The_Mango.txt', 'S05_E02_The_Puffy_Shirt.txt',\n",
    "                              'S05_E03_The_Glasses.txt', 'S05_E04_The_Sniffing_Accountant.txt',\n",
    "                              'S05_E05_The_Bris.txt', 'S05_E06_The_Lip_Reader.txt',\n",
    "                              'S05_E07_The_Non_Fat_Yogurt.txt', 'S05_E08_The_Barber.txt',\n",
    "                              'S05_E09_The_Masseuse.txt', 'S05_E10_The_Cigar_Store_Indian.txt',\n",
    "                              'S05_E11_The_Conversion.txt', 'S05_E12_The_Stall.txt',\n",
    "                              'S05_E13_The_Dinner_Party.txt', 'S05_E14_The_Marine_Biologist.txt',\n",
    "                              'S05_E15_The_Pie.txt', 'S05_E16_The_Stand-In.txt',\n",
    "                              'S05_E17_The_Wife.txt', 'S05_E18_The_Raincoats_Part_1.txt',\n",
    "                              'S05_E19_The_Raincoats_Part_2.txt', 'S05_E20_The_Fire.txt',\n",
    "                              'S05_E21_The_Hamptons.txt', 'S05_E22_The Opposite.txt']"
   ]
  },
  {
   "cell_type": "code",
   "execution_count": 3,
   "metadata": {
    "scrolled": true
   },
   "outputs": [
    {
     "data": {
      "text/plain": [
       "\"[Setting: Jerry's apartment] (Jerry and George are waiting for Kramer, so he can help them move George's stuff back into his parent's house) GEORGE: I can't believe this! JERRY: Oh, it won't be for that long. GEORGE: How can I do this?! How can I move back in with those people? Please, tell me! They're insane! You know that. JERRY: Hey, my parents are just as crazy as your parents. GEORGE: How can you compare you parents to my parents?! JERRY: My father has never thrown anything out. Ever! GEORGE: My father wears his sneakers in the pool! Sneakers! JERRY: My mother has never set foot in a natural body of water. GEORGE: (Showing Jerry up) Listen carefully. My mother has never laughed. Ever. Not a giggle, not a chuckle, not a tee-hee.. never went 'Ha!' JERRY: A smirk? GEORGE: Maybe!.. And I'm moving back in there! JERRY: I told you I'd lend you the money for the rent. GEORGE: No, no, no, no. Borrowing money from a friend is like having sex. It just completely changes the relationship. (Kramer stumbles in) KRAMER: Alright. I'm ready. (To\""
      ]
     },
     "execution_count": 3,
     "metadata": {},
     "output_type": "execute_result"
    }
   ],
   "source": [
    "with open(seinfeld_directory + seinfeld_season_5_episodes[1], 'r') as file:\n",
    "    raw_text_episode_2 = file.read().replace('\\n', ' ')\n",
    "    #.replace('[','(').replace(']',')')\n",
    "raw_text_episode_2[:1050]"
   ]
  },
  {
   "cell_type": "code",
   "execution_count": 14,
   "metadata": {},
   "outputs": [
    {
     "ename": "SyntaxError",
     "evalue": "EOL while scanning string literal (<ipython-input-14-76f82fec666e>, line 8)",
     "output_type": "error",
     "traceback": [
      "\u001b[0;36m  File \u001b[0;32m\"<ipython-input-14-76f82fec666e>\"\u001b[0;36m, line \u001b[0;32m8\u001b[0m\n\u001b[0;31m    cleaned_text.replace(\"'\\\", \"\")\u001b[0m\n\u001b[0m                                  ^\u001b[0m\n\u001b[0;31mSyntaxError\u001b[0m\u001b[0;31m:\u001b[0m EOL while scanning string literal\n"
     ]
    }
   ],
   "source": [
    "def cleaned_episode(raw_text):\n",
    "    cleaned_episode = []\n",
    "    \n",
    "    raw_text_no_notes = re.sub(\"[\\(\\[].*?[\\)\\]]\", \"\", raw_text)\n",
    "    \n",
    "    symbols =  \",.?!''\\\\\"\n",
    "    cleaned_text = raw_text_no_notes.replace(symbols, '').lower()\n",
    "    cleaned_text.replace(\"\\\", \"\")\n",
    "    return cleaned_text\n"
   ]
  },
  {
   "cell_type": "code",
   "execution_count": 11,
   "metadata": {
    "scrolled": false
   },
   "outputs": [],
   "source": [
    "cleaned_episode_2 = cleaned_episode(raw_text_episode_2)"
   ]
  },
  {
   "cell_type": "code",
   "execution_count": 12,
   "metadata": {},
   "outputs": [
    {
     "data": {
      "text/plain": [
       "'  george: i can\\'t believe this! jerry: oh, it won\\'t be for that long. george: how can i do this?! how can i move back in with those people? please, tell me! they\\'re insane! you know that. jerry: hey, my parents are just as crazy as your parents. george: how can you compare you parents to my parents?! jerry: my father has never thrown anything out. ever! george: my father wears his sneakers in the pool! sneakers! jerry: my mother has never set foot in a natural body of water. george:  listen carefully. my mother has never laughed. ever. not a giggle, not a chuckle, not a tee-hee.. never went \\'ha!\\' jerry: a smirk? george: maybe!.. and i\\'m moving back in there! jerry: i told you i\\'d lend you the money for the rent. george: no, no, no, no. borrowing money from a friend is like having sex. it just completely changes the relationship.  kramer: alright. i\\'m ready.  you know, i still don\\'t understand - why do you want to move back in with your parents? george: i don\\'t want to! i\\'m outta money! i got 714 dollars left in the bank. kramer: well, move in here. jerry:  what\\'s that? kramer: why doesn\\'t he just move in here? george:  yeah, yeah. i\\'m gonna move in with him. he doesn\\'t even let you use the toilet! kramer: you can move in with me, if you want. george:  thank you.. i, uh.. that might not work out.    estelle: careful! careful with the suitcases! we just painted! kramer: hello, mrs. costanza. estelle: hello, kramer. close the door.  kramer: well, i gotta bring in more stuff.  estelle: more stuff?! kramer: yeah.  estelle:  how much is there?! george:  there\\'s more. estelle: so, how are ya, jerry? jerry: fine, mrs. costanza.  hey, i got a terrific joke for you.. estelle:  nah, not interested. jerry: no, no. it\\'s really funny. there\\'s these two guys- estelle:  tell it to the audience.  here,  i made some bologna sandwiches. george: bologna?! no one eats bologna anymore! estelle: what are you talking about?! have a sandwich. jerry: no thanks.  estelle: oh, stop it! you don\\'t want one, kramer? kramer: uhh.. no thanks.  estelle: i think you\\'re all a little touched in the head.  you\\'re so worried about your health.. you\\'re young men. jerry: i really don\\'t eat it. estelle: what am i gonna do with all these sandwiches?! will you take them home? give them to someone in your building? jerry: i don\\'t know if i\\'d feel comfortable handing out bologna sandwiches in the building.. kramer:  alright, that\\'s it. anything else? george:  no, that\\'s it.  kramer: oh, i gotta go move the car.  jerry: well, i guess we\\'ll be going..  george:  what? you\\'re going? jerry: yeah. george: wha - what are you doing later? jerry: oh, elaine and i are going out to dinner with kramer and his new girlfriend. george: really? jerry: yeah, you can\\'t believe this woman. she\\'s one of those low-talkers. you can\\'t hear a word she\\'s saying! you\\'re always going \\'excuse me?\\', \\'what was that?\\' george: yeah.. may - maybe i\\'ll meet ya? estelle: no, george. we\\'re going out to eat tonight with your father. george:  oh.. okay.. talk to you later. jerry: yeah, take it easy.   george: oh, my god..     elaine: okay, well, he had this idea of a pizza place where you make your own pie!  jerry: right. eliane: you remember that? kramer: yeah, well, that was a good one. jerry: well..  elaine: what\\'s that? jerry: excuse me?  jerry: yeah.. yeah. elaine: yep. yeah.. kramer: you know that, uh, leslie  is in the clothing business? she\\'s a designer. elaine:  oh? kramer: in fact, she\\'s come up with a new one that is going to be the big new look in mens fashions.. it\\'s a, a puffy shirt.  well, yeah, it - it\\'s all puffy. like the pirates used to wear. elaine: oh, a puffy shirt. jerry: puffy. kramer: yeah, see, i think people want to look like pirates. you know, it\\'s the right time for it.. to be all puffy, and devil-may-care..  kramer:  that\\'s true..  i\\'ll be right back.  elaine: uh, oh!  jerry\\'s going to be on the \"today\" show on friday. jerry: yeah, that\\'s right! elaine: yep.. yep. um, he\\'s promoting a benefit for goodwill, you know, they, uh, they clothe the poor, and the homeless.. jerry:  and the indigent. elaine: and the indigent, yeah.. i, i do volunteer work for them. i set the whole thing up, and i got jerry to do it.  jerry: sure. elaine: ohh, yeah. yeah.. yep.  jerry: uh-huh. elaine: yep. jerry: yep.. elaine: mmm   estelle: maybe you should take a civil service test. george:  i\\'m not taking a civil service test. frank: look at this, george.  you ever seen a silver dollar? george: yes, i\\'ve seen a silver dollar. elaine: why don\\'t you want to take a civil service test? george: to do what?! work in a post office? is that what you want me to do? frank: would you believe when i was 18, i had a silver dollar collection? estelle: i don\\'t understand. you get job security - you get a pay check every week.. george: i\\'m a college graduate. you want me to be a mailman? frank:  you know, i couldn\\'t bring myself to spend one of these. i got some kind of a-a-a-a-a phobia. estelle: so what are you gonna do?! george: i don\\'t know. i do know that i have some kind of a talent - something to offer. i just don\\'t know what it is yet! frank: i bet that collection would be worth a lot of money today. george:  oh my god.. frank: i don\\'t like this waiter.  look at him.. he sees us.. he doesn\\'t want to come over. george:  i need some air.. estelle: george, where are you going?! george:  i got a lot of thinking to do.  george: oh, i\\'m sorry. i\\'m terribly sorry..  woman: look at what you\\'ve done! you spilled my bag! george:  i, i, i, .. here, let me - let me help you.. woman: no, no ,no. it\\'s all right.  george: it - it\\'s just that i\\'m here with my parents, and my mother wants me to take a civil service test - and to tell you the truth, i don\\'t even think i\\'d pass it.. so..  woman: hmm.. george: what? woman:  your hands. george: what about them? woman: they\\'re quite exquisite! george: they are? woman:  extraordinary! have you ever done any hand modeling? george: hand modeling?  woman:  here\\'s my card. why don\\'t you, uh, give me a call?     jerry:  i - i don\\'t get it. george: me neither! jerry: what is it? george: i don\\'t know. jerry: they\\'re hands! george: this woman just set me up for a job! jerry:  well, what about my hands? i don\\'t see how your hands are any better than my hands. george: what, are you kidding?  the knuckles are all out of proportion. you got hair over there - where do you get off comparing your hands to my hands?! this is a one-in-a-million hand.  jerry: well, that\\'s what comes from avoiding manual labor your whole life. george: this is it! it happened to me, jerry! i was sitting in the restaurant, the two nut jobs were talking - i couldn\\'t take it any more. i got up, and  i bop into this woman..  kramer: hey.  jerry: hey. kramer: hey, george!  george: what are you, crazy?! what are you, crazy?! kramer: what?! george: you coulda damaged my hand! kramer:  but, it\\'s only a toy! jerry:  george has become a hand model. kramer: a hand model? jerry: yes. kramer:  really? let me look at them.. george:  you can look at them, but do not touch them.  kramer: let\\'s see.. oh, those are nice. you know, i\\'ve never noticed this before? they\\'re smooth.. creamy.. delicate, yet  masculine. george:  alright,  i gotta get going. jerry: oven mitts? george:  that\\'s all i could find.  would you mind getting the door? kramer: yeah.. jerry: alright.  george: thank you very much.   kramer: you\\'re not going to believe what happening with leslie. you know, ever since you agreed to wear the puffy shirt on the today show, she\\'s been getting all these orders from boutiques and department stores.. jerry: uh-huh..  since i said what? kramer: agreed to wear the puffy shirt.  jerry: what are you talking about? kramer: when you said that you\\'d agree to wear the puffy shirt on the today show.  jerry:  this? kramer: yes! jerry: i agreed to wear this?! kramer: yeah, yeah. jerry: but, when did i do that? kramer: when we went to dinner the other night. jerry: what are you, crazy?! kramer: what were you talking about when i went to the bathroom? jerry: i don\\'t know! i couldn\\'t understand a word she was saying! i was just nodding! kramer: there you go. jerry: where i go? you mean she was asking me to wear this ridiculous shirt on national tv, and i said \\'yes\\'?! kramer: yes, yes! you said it! jerry: but, i - i didn\\'t know what she was talking about. i couldn\\'t hear her! kramer:  well, she asked you. jerry: i - i can\\'t wear this puffy shirt on tv! i mean, look at it! it looks ridiculous! kramer: well, you gotta wear it now! all those stores are stocking it based on the condition that you\\'re gonna wear this on the tv show! the factory in new jersey is already makin\\' them! jerry: they\\'re making these?! kramer: yes, yes. this pirate trend that she\\'s come up with, jerry, - this is gonna be the new look for the 90\\'s. you\\'re gonna be the first pirate! jerry:  but, i don\\'t want to be a pirate!    estelle: i knew it. i knew it.. i always knew you always had beautiful hands. i used to tell people. frank, didn\\'t i use to talk about his hands? frank:  who the hell did\\'ya ever mention his hands to? estelle:  i mentioned his hands to plenty of people! frank: you never mentioned them to me! george:  hand me an emory board.  estelle: i always talk about your hands - how they\\'re so soft and milky white.. frank: no! you never said milky white! estelle:  i said milky white!  george:  scissor.  don\\'t hand them to me with the point facing out!  estelle: i\\'m sorry. george: you\\'re sorry?! estelle:  i\\'ll try to be more careful. george:  i hope so.   estelle: georgie..  georgie, would you like some jell-o? frank:  why\\'d you put the bananas in there?! estelle:  george likes the bananas! frank:  so let him have bananas on the side!  george: alright! please, please! i cannot have this constant bickering!.. stress is very damaging to the epidermis! now, i have an important photo session in the morning - my hands have got to be in tip-top shape, so please - keep the television down, and the conversation to a minimum. estelle:  but georgie.. what about the jell-o? george:  i\\'ll take it in my room.     kramer: yeah, come in.  stagehand: i just wanted to let you know he\\'s got about five minutes. kramer: giddy-up.  jerry! five minutes!  kramer: now that\\'s a great looking shirt!  ayye captain!  yeah! i\\'m glad i ironed it. it\\'s perfect.  look at it! it\\'s fantastic! jerry:  kramer, how am i gonna wear this?! i can\\'t wear this! kramer:  hey, this look\\'s better than anything you own. you know, in two months time, everybody\\'s gonna be wearing the  pirate look. aye!  kramer: yeah. elaine: hi, kramer. guess what - i just saw bryant gumbel, he said he might help out at the benefit! kramer: great.  elaine:  what is that?! kramer: it\\'s the puffy shirt. look at it, eh? whatd\\'ya think? is it cool or what? elaine:  why\\'re you wearing that now? jerry:  \\'why am i wearing is now?\\'? i\\'ll tell you why i\\'m wearing it now - because the lowtalker asked me to, that\\'s why! and i said \\'yes\\'. do you know why? because i couldn\\'t hear her! elaine: when did she,  when did she ask you this? jerry: when we were at dinner, when kramer went to the bathroom. elaine: i didn\\'t hear anything. jerry:  of course not! nobody hears anything when this woman speaks! elaine:  well, you can\\'t wear that on the show. kramer:  elaine, you want to stop? elaine:  wha- what? no.  jerry, you are promoting a benefit to clothe homeless people. you can\\'t come out dressed like that! you\\'re all puffed up!.. you look like the count of monte cristo! jerry:  i have to wear it! the woman has orders for this shirt based on me wearing it on tv.. they\\'re producing them as we speak! elaine:  yeah, but you\\'re supposed to be a compassionate person! that cares about poor people! you look like you\\'re gonna.. swing in on a chandelier!  stagehand:  okay, let\\'s go.  is that what you\\'re wearing?    man: i\\'ve never seen hands like these before.. woman: they\\'re so soft and milky white. photographer: you know who\\'s hands they remind me of?  ray mckigney.  man: ugh.. ray. photographer: he was it. george: who was he? photographer: the most exquisite hands you\\'ve ever seen.. oh, he had it all. george:  what happened to him?  man:  tragic story, i\\'m afraid. he could\\'ve had any woman in the world.. but none could match the beauty of his own hand.. and that became his one true love..  george: you mean, uh..? man: yes. he was not.. master of his domain. george:  but how.. uh..? man:  the muscles.. became so strained with.. overuse, that eventually the hand locked into a deformed position, and he was left with nothing but a claw.  he traveled the world seeking a cure.. acupuncturists.. herbalists.. swamis.. nothing helped. towards the end, his hands became so frozen the was unable to manipulate utensils,  and was dependent on cub scouts to feed him. i hadn\\'t seen another pair of hands like ray mckigney\\'s.. until today. you are his successor.  i.. only hope you have a little more self-control. george:  you don\\'t have to worry about me.  i won a contest.  photographer: ok, let\\'s get to work.    bryant:  back now, 7:46. on tuesday the 19th here in new york there will be a benefit for the goodwill industries - a used clothing organization that provides service to the needy. one of the performers will be comedian jerry seinfeld.  jerry, good morning. jerry:  thank you, bryant. bryant:  and speaking of clothing , that is a very, very unusual shirt you have on. jerry:  oh, thank you.  bryant: you\\'re all kinda,  all kinda \"puffed up\".  jerry: yeah, it\\'s a puffy shirt.  '"
      ]
     },
     "execution_count": 12,
     "metadata": {},
     "output_type": "execute_result"
    }
   ],
   "source": [
    "cleaned_episode_2"
   ]
  },
  {
   "cell_type": "markdown",
   "metadata": {},
   "source": [
    "# Part Two: tokenize/stemming/lemmatization"
   ]
  },
  {
   "cell_type": "code",
   "execution_count": 8,
   "metadata": {},
   "outputs": [
    {
     "ename": "SyntaxError",
     "evalue": "unexpected EOF while parsing (<ipython-input-8-22c406d695c7>, line 1)",
     "output_type": "error",
     "traceback": [
      "\u001b[0;36m  File \u001b[0;32m\"<ipython-input-8-22c406d695c7>\"\u001b[0;36m, line \u001b[0;32m1\u001b[0m\n\u001b[0;31m    def tokenize(cleaned_text):\u001b[0m\n\u001b[0m                               ^\u001b[0m\n\u001b[0;31mSyntaxError\u001b[0m\u001b[0;31m:\u001b[0m unexpected EOF while parsing\n"
     ]
    }
   ],
   "source": [
    "def tokenize(cleaned_text):\n",
    "    word_tokenize()"
   ]
  },
  {
   "cell_type": "code",
   "execution_count": null,
   "metadata": {},
   "outputs": [],
   "source": []
  }
 ],
 "metadata": {
  "kernelspec": {
   "display_name": "Python 3",
   "language": "python",
   "name": "python3"
  },
  "language_info": {
   "codemirror_mode": {
    "name": "ipython",
    "version": 3
   },
   "file_extension": ".py",
   "mimetype": "text/x-python",
   "name": "python",
   "nbconvert_exporter": "python",
   "pygments_lexer": "ipython3",
   "version": "3.7.2"
  }
 },
 "nbformat": 4,
 "nbformat_minor": 2
}
