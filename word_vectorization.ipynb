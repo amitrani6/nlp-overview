{
 "cells": [
  {
   "cell_type": "code",
   "execution_count": null,
   "metadata": {
    "scrolled": false
   },
   "outputs": [],
   "source": [
    "#Import the relevand section of the NLP library\n",
    "import nltk\n",
    "nltk.download('punkt')\n",
    "from nltk import word_tokenize\n",
    "from nltk import sent_tokenize\n",
    "\n",
    "import re\n",
    "\n",
    "from mpl_toolkits.mplot3d import Axes3D\n",
    "from sklearn.manifold import TSNE\n",
    "\n",
    "import pandas as pd\n",
    "import numpy as np\n",
    "import matplotlib.pyplot as plt\n",
    "%matplotlib inline"
   ]
  },
  {
   "cell_type": "code",
   "execution_count": null,
   "metadata": {},
   "outputs": [],
   "source": [
    "seinfeld_directory = 'Seinfeld_Episodes/Season_5/'\n",
    "\n",
    "seinfeld_season_5_episodes = ['S05_E01_The_Mango.txt', 'S05_E02_The_Puffy_Shirt.txt',\n",
    "                              'S05_E03_The_Glasses.txt', 'S05_E04_The_Sniffing_Accountant.txt',\n",
    "                              'S05_E05_The_Bris.txt', 'S05_E06_The_Lip_Reader.txt',\n",
    "                              'S05_E07_The_Non_Fat_Yogurt.txt', 'S05_E08_The_Barber.txt',\n",
    "                              'S05_E09_The_Masseuse.txt', 'S05_E10_The_Cigar_Store_Indian.txt',\n",
    "                              'S05_E11_The_Conversion.txt', 'S05_E12_The_Stall.txt',\n",
    "                              'S05_E13_The_Dinner_Party.txt', 'S05_E14_The_Marine_Biologist.txt',\n",
    "                              'S05_E15_The_Pie.txt', 'S05_E16_The_Stand-In.txt',\n",
    "                              'S05_E17_The_Wife.txt', 'S05_E18_The_Raincoats_Part_1.txt',\n",
    "                              'S05_E19_The_Raincoats_Part_2.txt', 'S05_E20_The_Fire.txt',\n",
    "                              'S05_E21_The_Hamptons.txt', 'S05_E22_The Opposite.txt']"
   ]
  },
  {
   "cell_type": "code",
   "execution_count": null,
   "metadata": {
    "scrolled": true
   },
   "outputs": [],
   "source": [
    "with open(seinfeld_directory + seinfeld_season_5_episodes[1], 'r') as file:\n",
    "    raw_text_episode_2 = file.read().replace('\\n', ' ')\n",
    "    #.replace('[','(').replace(']',')')\n",
    "raw_text_episode_2[:1050]"
   ]
  },
  {
   "cell_type": "code",
   "execution_count": null,
   "metadata": {},
   "outputs": [],
   "source": [
    "def cleaned_episode(raw_text):\n",
    "    cleaned_episode = []\n",
    "    \n",
    "    raw_text_no_notes = re.sub(\"[\\(\\[].*?[\\)\\]]\", \"\", raw_text)\n",
    "    \n",
    "    symbols =  \",.?!''\\\\\"\n",
    "    cleaned_text = raw_text_no_notes.replace(symbols, '').lower()\n",
    "    return cleaned_text\n"
   ]
  },
  {
   "cell_type": "code",
   "execution_count": null,
   "metadata": {},
   "outputs": [],
   "source": [
    "cleaned_episode(raw_text_episode_2)"
   ]
  },
  {
   "cell_type": "code",
   "execution_count": null,
   "metadata": {},
   "outputs": [],
   "source": []
  }
 ],
 "metadata": {
  "kernelspec": {
   "display_name": "Python 3",
   "language": "python",
   "name": "python3"
  },
  "language_info": {
   "codemirror_mode": {
    "name": "ipython",
    "version": 3
   },
   "file_extension": ".py",
   "mimetype": "text/x-python",
   "name": "python",
   "nbconvert_exporter": "python",
   "pygments_lexer": "ipython3",
   "version": "3.7.2"
  }
 },
 "nbformat": 4,
 "nbformat_minor": 2
}
