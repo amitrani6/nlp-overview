{
 "cells": [
  {
   "cell_type": "markdown",
   "metadata": {},
   "source": [
    "# Feature Engineering and Big Grams Example\n",
    "\n",
    "This notebook contains examples of NLP feature engineering, specifically Big Grams; the combination of words as features or dimensions.\n",
    "\n",
    "**Bigrams** are every pair of words in the corpus; some pairs of words that appear at least a minimum of times (usually five) hold more information than others.\n",
    "\n",
    "For example, the sentence 'I live in Santa Ana.' has the bigrams: (I, live); (live, in); (in, Santa); and (Santa, Ana). The bigram (Santa, Ana) will carry more information than (in, Santa) because it conveys the name of a place rather than a random pairing of words.\n",
    "\n",
    "**Ngrams** can be groups of n number of words or characters.\n",
    "\n",
    "You can rank any of these groups with a metric known as **Pointwise Mutual Information Score**, a statistical measure of dependency between the items within a group. The higher the score, the more information that the group conveys.\n",
    "\n",
    "*This notebook is adapted from the Learn.co leson titled \"Corpus Statistics - Lab\"*"
   ]
  },
  {
   "cell_type": "code",
   "execution_count": null,
   "metadata": {},
   "outputs": [],
   "source": [
    "import nltk\n",
    "from nltk.corpus import gutenberg, stopwords\n",
    "from nltk.collocations import *\n",
    "from nltk import FreqDist\n",
    "from nltk import word_tokenize\n",
    "import string\n",
    "import re"
   ]
  },
  {
   "cell_type": "code",
   "execution_count": null,
   "metadata": {
    "scrolled": false
   },
   "outputs": [],
   "source": [
    "file_ids = gutenberg.fileids()\n",
    "file_ids"
   ]
  },
  {
   "cell_type": "markdown",
   "metadata": {},
   "source": [
    "# Part 1: Clean The Text"
   ]
  },
  {
   "cell_type": "code",
   "execution_count": null,
   "metadata": {},
   "outputs": [],
   "source": [
    "# Load Moby Dick\n",
    "moby_dick_text = gutenberg.raw(file_ids[-6])"
   ]
  },
  {
   "cell_type": "code",
   "execution_count": null,
   "metadata": {},
   "outputs": [],
   "source": [
    "#Remove preface\n",
    "print(moby_dick_text[21945:22400])\n",
    "moby_dick_text = moby_dick_text[21945:]"
   ]
  },
  {
   "cell_type": "code",
   "execution_count": null,
   "metadata": {},
   "outputs": [],
   "source": [
    "#Tokenize text, treat all apostrophies as one word\n",
    "\n",
    "pattern = \"([a-zA-Z]+(?:'[a-z]+)?)\"\n",
    "moby_dick_tokens_raw = nltk.regexp_tokenize(moby_dick_text, pattern)"
   ]
  },
  {
   "cell_type": "code",
   "execution_count": null,
   "metadata": {},
   "outputs": [],
   "source": [
    "#Make all words lowercase\n",
    "moby_dick_tokens = [word.lower() for word in moby_dick_tokens_raw]"
   ]
  },
  {
   "cell_type": "markdown",
   "metadata": {},
   "source": [
    "# Part 2: Exploring Text\n",
    "\n",
    "## Frequency and normalized frequency distributions"
   ]
  },
  {
   "cell_type": "code",
   "execution_count": null,
   "metadata": {},
   "outputs": [],
   "source": [
    "#Create a Frequency Distribution to view what words are in the text\n",
    "moby_dick_freqdist = FreqDist(moby_dick_tokens)\n",
    "moby_dick_freqdist.most_common(25)"
   ]
  },
  {
   "cell_type": "code",
   "execution_count": null,
   "metadata": {},
   "outputs": [],
   "source": [
    "stopwords_list = stopwords.words('english')\n",
    "stopwords_list += list(string.punctuation)"
   ]
  },
  {
   "cell_type": "code",
   "execution_count": null,
   "metadata": {},
   "outputs": [],
   "source": [
    "#Remove all stopwords from the text\n",
    "moby_dick_words_stopped = [word for word in moby_dick_tokens if word not in stopwords_list]"
   ]
  },
  {
   "cell_type": "code",
   "execution_count": null,
   "metadata": {},
   "outputs": [],
   "source": [
    "moby_dick_freqdist = FreqDist(moby_dick_words_stopped)\n",
    "moby_dick_freqdist.most_common(25)"
   ]
  },
  {
   "cell_type": "code",
   "execution_count": null,
   "metadata": {},
   "outputs": [],
   "source": [
    "#The total number of unique words in Moby dick after stopped words are removed is:\n",
    "len(moby_dick_freqdist)"
   ]
  },
  {
   "cell_type": "code",
   "execution_count": null,
   "metadata": {
    "scrolled": true
   },
   "outputs": [],
   "source": [
    "#Normalize the frequency by dividing each word's frequency by the total number\n",
    "#of words in the corpus\n",
    "\n",
    "#Obtain a total word count in the corpus\n",
    "total_word_count = sum(moby_dick_freqdist.values())\n",
    "\n",
    "#View the top 25 words by normalize frequency distribution\n",
    "moby_dick_top_25 = moby_dick_freqdist.most_common(25)\n",
    "print(\"Word\\t\\t\\tNormalized Frequency\")\n",
    "for word in moby_dick_top_25:\n",
    "    normalized_frequency = word[1] / total_word_count\n",
    "    print(\"{} \\t\\t\\t {:.4}\".format(word[0], normalized_frequency))\n"
   ]
  },
  {
   "cell_type": "markdown",
   "metadata": {},
   "source": [
    "## Bigrams"
   ]
  },
  {
   "cell_type": "code",
   "execution_count": null,
   "metadata": {},
   "outputs": [],
   "source": [
    "# Create bigrams (groups of two tokens)\n",
    "\n",
    "# Call the bigram method within NLTK\n",
    "bigram_measures = nltk.collocations.BigramAssocMeasures()\n",
    "\n",
    "# Apply the Moby Dick text to the above bigram method\n",
    "moby_dick_finder = BigramCollocationFinder.from_words(moby_dick_words_stopped)\n",
    "\n",
    "# Score the bigrams\n",
    "moby_dick_scored = moby_dick_finder.score_ngrams(bigram_measures.raw_freq)"
   ]
  },
  {
   "cell_type": "code",
   "execution_count": null,
   "metadata": {},
   "outputs": [],
   "source": [
    "# The top twenty five scored bigrams\n",
    "# Note the normalized frequencies\n",
    "moby_dick_scored[:25]"
   ]
  },
  {
   "cell_type": "markdown",
   "metadata": {},
   "source": [
    "## Pointwise Mutual Information Score (PMI)"
   ]
  },
  {
   "cell_type": "code",
   "execution_count": null,
   "metadata": {},
   "outputs": [],
   "source": [
    "# Create PMI finder for bigrams\n",
    "moby_dick_pmi_finder = BigramCollocationFinder.from_words(moby_dick_words_stopped)\n",
    "\n",
    "# Apply the minimum amount of appearences a bigram must have to count\n",
    "moby_dick_pmi_finder.apply_freq_filter(5)\n",
    "\n",
    "# Calculate PMI for the remaining bigrams with five or more appearances within the text\n",
    "moby_dick_pmi_scored = moby_dick_pmi_finder.score_ngrams(bigram_measures.pmi)"
   ]
  },
  {
   "cell_type": "code",
   "execution_count": null,
   "metadata": {},
   "outputs": [],
   "source": [
    "#Too many bigrams, apply a bigger filter\n",
    "\n",
    "len(moby_dick_pmi_scored)"
   ]
  },
  {
   "cell_type": "code",
   "execution_count": null,
   "metadata": {},
   "outputs": [],
   "source": [
    "# Apply the minimum amount of appearences a bigram must have to count\n",
    "moby_dick_pmi_finder.apply_freq_filter(20)\n",
    "\n",
    "# Calculate PMI for the remaining bigrams with five or more appearances within the text\n",
    "moby_dick_pmi_scored = moby_dick_pmi_finder.score_ngrams(bigram_measures.pmi)"
   ]
  },
  {
   "cell_type": "code",
   "execution_count": null,
   "metadata": {},
   "outputs": [],
   "source": [
    "len(moby_dick_pmi_scored)"
   ]
  },
  {
   "cell_type": "code",
   "execution_count": null,
   "metadata": {},
   "outputs": [],
   "source": [
    "moby_dick_pmi_scored"
   ]
  },
  {
   "cell_type": "code",
   "execution_count": null,
   "metadata": {},
   "outputs": [],
   "source": []
  }
 ],
 "metadata": {
  "kernelspec": {
   "display_name": "Python 3",
   "language": "python",
   "name": "python3"
  },
  "language_info": {
   "codemirror_mode": {
    "name": "ipython",
    "version": 3
   },
   "file_extension": ".py",
   "mimetype": "text/x-python",
   "name": "python",
   "nbconvert_exporter": "python",
   "pygments_lexer": "ipython3",
   "version": "3.7.2"
  }
 },
 "nbformat": 4,
 "nbformat_minor": 2
}
