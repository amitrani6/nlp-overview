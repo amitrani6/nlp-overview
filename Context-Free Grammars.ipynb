{
 "cells": [
  {
   "cell_type": "markdown",
   "metadata": {},
   "source": [
    "# Context-Free Grammars & Part-Of-Speech Tags\n",
    "\n",
    "This notebook will explore the Python implementation of Context-Free Grammars and Part-Of-Speech Tags"
   ]
  },
  {
   "cell_type": "code",
   "execution_count": 5,
   "metadata": {},
   "outputs": [],
   "source": [
    "import nltk\n",
    "from nltk import word_tokenize"
   ]
  },
  {
   "cell_type": "code",
   "execution_count": 6,
   "metadata": {},
   "outputs": [],
   "source": [
    "# Sample sentences\n",
    "sentence = \"While hunting in Africa, I shot an elephant in my pajamas. How he got into my pajamas, I don't know.\"\n",
    "sentence_2 = 'usain_bolt broke the 100m record'"
   ]
  },
  {
   "cell_type": "code",
   "execution_count": 12,
   "metadata": {},
   "outputs": [
    {
     "data": {
      "text/plain": [
       "[('While', 'IN'),\n",
       " ('hunting', 'VBG'),\n",
       " ('in', 'IN'),\n",
       " ('Africa', 'NNP'),\n",
       " ('I', 'PRP'),\n",
       " ('shot', 'VBP'),\n",
       " ('an', 'DT'),\n",
       " ('elephant', 'NN'),\n",
       " ('in', 'IN'),\n",
       " ('my', 'PRP$'),\n",
       " ('pajamas', 'NN'),\n",
       " ('How', 'WRB'),\n",
       " ('he', 'PRP'),\n",
       " ('got', 'VBD'),\n",
       " ('into', 'IN'),\n",
       " ('my', 'PRP$'),\n",
       " ('pajamas', 'NN'),\n",
       " ('I', 'PRP'),\n",
       " (\"don't\", 'VBP'),\n",
       " ('know', 'VB')]"
      ]
     },
     "execution_count": 12,
     "metadata": {},
     "output_type": "execute_result"
    }
   ],
   "source": [
    "#Tokenize text, treat all apostrophies as one word\n",
    "\n",
    "groucho_marx_tokens_raw = nltk.regexp_tokenize(sentence, pattern)\n",
    "nltk.pos_tag(groucho_marx_tokens_raw)"
   ]
  },
  {
   "cell_type": "code",
   "execution_count": 13,
   "metadata": {},
   "outputs": [
    {
     "data": {
      "text/plain": [
       "[('While', 'IN'),\n",
       " ('hunting', 'VBG'),\n",
       " ('in', 'IN'),\n",
       " ('Africa', 'NNP'),\n",
       " (',', ','),\n",
       " ('I', 'PRP'),\n",
       " ('shot', 'VBP'),\n",
       " ('an', 'DT'),\n",
       " ('elephant', 'NN'),\n",
       " ('in', 'IN'),\n",
       " ('my', 'PRP$'),\n",
       " ('pajamas', 'NN'),\n",
       " ('.', '.'),\n",
       " ('How', 'WRB'),\n",
       " ('he', 'PRP'),\n",
       " ('got', 'VBD'),\n",
       " ('into', 'IN'),\n",
       " ('my', 'PRP$'),\n",
       " ('pajamas', 'NN'),\n",
       " (',', ','),\n",
       " ('I', 'PRP'),\n",
       " ('do', 'VBP'),\n",
       " (\"n't\", 'RB'),\n",
       " ('know', 'VB'),\n",
       " ('.', '.')]"
      ]
     },
     "execution_count": 13,
     "metadata": {},
     "output_type": "execute_result"
    }
   ],
   "source": [
    "#NLTK automatic POS tags for sentence 1\n",
    "tokenized_sent = word_tokenize(sentence)\n",
    "nltk.pos_tag(tokenized_sent)\n"
   ]
  },
  {
   "cell_type": "code",
   "execution_count": 8,
   "metadata": {},
   "outputs": [
    {
     "data": {
      "text/plain": [
       "[('usain_bolt', 'JJ'),\n",
       " ('broke', 'VBD'),\n",
       " ('the', 'DT'),\n",
       " ('100m', 'CD'),\n",
       " ('record', 'NN')]"
      ]
     },
     "execution_count": 8,
     "metadata": {},
     "output_type": "execute_result"
    }
   ],
   "source": [
    "#NLTK automatic POS tags for sentence 2\n",
    "tokenized_sent_2 = word_tokenize(sentence_2)\n",
    "nltk.pos_tag(tokenized_sent_2)"
   ]
  },
  {
   "cell_type": "code",
   "execution_count": null,
   "metadata": {},
   "outputs": [],
   "source": []
  }
 ],
 "metadata": {
  "kernelspec": {
   "display_name": "Python 3",
   "language": "python",
   "name": "python3"
  },
  "language_info": {
   "codemirror_mode": {
    "name": "ipython",
    "version": 3
   },
   "file_extension": ".py",
   "mimetype": "text/x-python",
   "name": "python",
   "nbconvert_exporter": "python",
   "pygments_lexer": "ipython3",
   "version": "3.7.2"
  }
 },
 "nbformat": 4,
 "nbformat_minor": 2
}
